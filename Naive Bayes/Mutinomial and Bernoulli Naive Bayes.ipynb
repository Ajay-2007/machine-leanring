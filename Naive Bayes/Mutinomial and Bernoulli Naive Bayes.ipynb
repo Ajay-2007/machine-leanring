{
 "cells": [
  {
   "cell_type": "markdown",
   "metadata": {
    "ExecuteTime": {
     "end_time": "2019-10-03T12:59:34.516890Z",
     "start_time": "2019-10-03T12:59:34.511896Z"
    }
   },
   "source": [
    "# Multinomial and Bernoulli Naive Bayes"
   ]
  },
  {
   "cell_type": "markdown",
   "metadata": {},
   "source": [
    "For understanding Multinomial and Bernoulli Naive Bayes, we will take a few sentences and classify them in two different classes. Each sentence will represent one document. In real world examples, every sentence could be a document, such as a mail, or a news article, a book review, a tweet etc. \n",
    "\n",
    "The analysis and mathematics involved doesn’t depend on the type of document we use. Therefore we have chosen a set of small sentences to demonstrate the calculation involved and to drive in the concept."
   ]
  },
  {
   "cell_type": "code",
   "execution_count": 37,
   "metadata": {
    "ExecuteTime": {
     "end_time": "2019-10-03T13:55:21.111497Z",
     "start_time": "2019-10-03T13:55:21.088510Z"
    }
   },
   "outputs": [
    {
     "data": {
      "text/html": [
       "<div>\n",
       "<style scoped>\n",
       "    .dataframe tbody tr th:only-of-type {\n",
       "        vertical-align: middle;\n",
       "    }\n",
       "\n",
       "    .dataframe tbody tr th {\n",
       "        vertical-align: top;\n",
       "    }\n",
       "\n",
       "    .dataframe thead th {\n",
       "        text-align: right;\n",
       "    }\n",
       "</style>\n",
       "<table border=\"1\" class=\"dataframe\">\n",
       "  <thead>\n",
       "    <tr style=\"text-align: right;\">\n",
       "      <th></th>\n",
       "      <th>Document</th>\n",
       "      <th>Class</th>\n",
       "    </tr>\n",
       "  </thead>\n",
       "  <tbody>\n",
       "    <tr>\n",
       "      <td>0</td>\n",
       "      <td>Teclov is a great educational institution.</td>\n",
       "      <td>education</td>\n",
       "    </tr>\n",
       "    <tr>\n",
       "      <td>1</td>\n",
       "      <td>Educational greatness depends on ethics</td>\n",
       "      <td>education</td>\n",
       "    </tr>\n",
       "    <tr>\n",
       "      <td>2</td>\n",
       "      <td>A story of great ethics and educational greatness</td>\n",
       "      <td>education</td>\n",
       "    </tr>\n",
       "    <tr>\n",
       "      <td>3</td>\n",
       "      <td>Sholey is a great cinema</td>\n",
       "      <td>cinema</td>\n",
       "    </tr>\n",
       "    <tr>\n",
       "      <td>4</td>\n",
       "      <td>good movie depends on good story</td>\n",
       "      <td>cinema</td>\n",
       "    </tr>\n",
       "  </tbody>\n",
       "</table>\n",
       "</div>"
      ],
      "text/plain": [
       "                                            Document      Class\n",
       "0         Teclov is a great educational institution.  education\n",
       "1            Educational greatness depends on ethics  education\n",
       "2  A story of great ethics and educational greatness  education\n",
       "3                           Sholey is a great cinema     cinema\n",
       "4                   good movie depends on good story     cinema"
      ]
     },
     "execution_count": 37,
     "metadata": {},
     "output_type": "execute_result"
    }
   ],
   "source": [
    "import numpy as np\n",
    "import pandas as pd\n",
    "import sklearn\n",
    "docs = pd.read_csv(\"example_train1.csv\")\n",
    "# text in column 1, classifier in column 2\n",
    "docs"
   ]
  },
  {
   "cell_type": "markdown",
   "metadata": {
    "ExecuteTime": {
     "end_time": "2019-10-03T13:06:11.913408Z",
     "start_time": "2019-10-03T13:06:11.907399Z"
    }
   },
   "source": [
    "### There are 5 documents (sentences), in which 3 are of \"education\" class and 2 are of \"cinema\" class"
   ]
  },
  {
   "cell_type": "code",
   "execution_count": 38,
   "metadata": {
    "ExecuteTime": {
     "end_time": "2019-10-03T13:55:21.279403Z",
     "start_time": "2019-10-03T13:55:21.117496Z"
    }
   },
   "outputs": [
    {
     "data": {
      "text/html": [
       "<div>\n",
       "<style scoped>\n",
       "    .dataframe tbody tr th:only-of-type {\n",
       "        vertical-align: middle;\n",
       "    }\n",
       "\n",
       "    .dataframe tbody tr th {\n",
       "        vertical-align: top;\n",
       "    }\n",
       "\n",
       "    .dataframe thead th {\n",
       "        text-align: right;\n",
       "    }\n",
       "</style>\n",
       "<table border=\"1\" class=\"dataframe\">\n",
       "  <thead>\n",
       "    <tr style=\"text-align: right;\">\n",
       "      <th></th>\n",
       "      <th>Document</th>\n",
       "      <th>Class</th>\n",
       "    </tr>\n",
       "  </thead>\n",
       "  <tbody>\n",
       "    <tr>\n",
       "      <td>0</td>\n",
       "      <td>Teclov is a great educational institution.</td>\n",
       "      <td>1</td>\n",
       "    </tr>\n",
       "    <tr>\n",
       "      <td>1</td>\n",
       "      <td>Educational greatness depends on ethics</td>\n",
       "      <td>1</td>\n",
       "    </tr>\n",
       "    <tr>\n",
       "      <td>2</td>\n",
       "      <td>A story of great ethics and educational greatness</td>\n",
       "      <td>1</td>\n",
       "    </tr>\n",
       "    <tr>\n",
       "      <td>3</td>\n",
       "      <td>Sholey is a great cinema</td>\n",
       "      <td>0</td>\n",
       "    </tr>\n",
       "    <tr>\n",
       "      <td>4</td>\n",
       "      <td>good movie depends on good story</td>\n",
       "      <td>0</td>\n",
       "    </tr>\n",
       "  </tbody>\n",
       "</table>\n",
       "</div>"
      ],
      "text/plain": [
       "                                            Document  Class\n",
       "0         Teclov is a great educational institution.      1\n",
       "1            Educational greatness depends on ethics      1\n",
       "2  A story of great ethics and educational greatness      1\n",
       "3                           Sholey is a great cinema      0\n",
       "4                   good movie depends on good story      0"
      ]
     },
     "execution_count": 38,
     "metadata": {},
     "output_type": "execute_result"
    }
   ],
   "source": [
    "# convert label to a numerical variable\n",
    "docs['Class'] = docs['Class'].map({'education' : 1, 'cinema' : 0})\n",
    "docs"
   ]
  },
  {
   "cell_type": "code",
   "execution_count": 39,
   "metadata": {
    "ExecuteTime": {
     "end_time": "2019-10-03T13:55:21.472293Z",
     "start_time": "2019-10-03T13:55:21.285396Z"
    }
   },
   "outputs": [
    {
     "name": "stdout",
     "output_type": "stream",
     "text": [
      "[['Teclov is a great educational institution.' 1]\n",
      " ['Educational greatness depends on ethics' 1]\n",
      " ['A story of great ethics and educational greatness' 1]\n",
      " ['Sholey is a great cinema' 0]\n",
      " ['good movie depends on good story' 0]]\n",
      "X\n",
      "['Teclov is a great educational institution.'\n",
      " 'Educational greatness depends on ethics'\n",
      " 'A story of great ethics and educational greatness'\n",
      " 'Sholey is a great cinema' 'good movie depends on good story']\n",
      "Y\n",
      "[1 1 1 0 0]\n"
     ]
    },
    {
     "name": "stderr",
     "output_type": "stream",
     "text": [
      "C:\\Users\\d33ps3curity\\AppData\\Local\\Programs\\Python\\Python37-32\\lib\\site-packages\\ipykernel_launcher.py:1: FutureWarning: Method .as_matrix will be removed in a future version. Use .values instead.\n",
      "  \"\"\"Entry point for launching an IPython kernel.\n"
     ]
    }
   ],
   "source": [
    "numpy_array = docs.as_matrix()\n",
    "print(numpy_array)\n",
    "X = numpy_array[:, 0]\n",
    "Y = numpy_array[:, 1]\n",
    "# print(Y)\n",
    "Y = Y.astype('int')\n",
    "print(\"X\")\n",
    "print(X)\n",
    "print(\"Y\")\n",
    "print(Y)"
   ]
  },
  {
   "cell_type": "markdown",
   "metadata": {},
   "source": [
    "Imagine breaking X in individual words and putting them all in a bag. Then we pick all the unique words from the bag one by one and make a dictionary of unique words.\n",
    "\n",
    "This is called **vectorization of words**. We have the class ```CountVectorizer()``` in scikit learn to vectorize the words. Let us first see it in action."
   ]
  },
  {
   "cell_type": "code",
   "execution_count": 40,
   "metadata": {
    "ExecuteTime": {
     "end_time": "2019-10-03T13:55:21.654187Z",
     "start_time": "2019-10-03T13:55:21.478286Z"
    }
   },
   "outputs": [],
   "source": [
    "# create an object of CountVectorizer() class\n",
    "from sklearn.feature_extraction.text import CountVectorizer\n",
    "vec = CountVectorizer()"
   ]
  },
  {
   "cell_type": "markdown",
   "metadata": {},
   "source": [
    "Here ```vec``` is an object of class ```CountVectorizer```. This has a method called ```fit()``` which converts a corpus of documents into a vector of unique words as shown below."
   ]
  },
  {
   "cell_type": "code",
   "execution_count": 41,
   "metadata": {
    "ExecuteTime": {
     "end_time": "2019-10-03T13:55:21.852074Z",
     "start_time": "2019-10-03T13:55:21.662181Z"
    }
   },
   "outputs": [
    {
     "data": {
      "text/plain": [
       "{'teclov': 15,\n",
       " 'is': 9,\n",
       " 'great': 6,\n",
       " 'educational': 3,\n",
       " 'institution': 8,\n",
       " 'greatness': 7,\n",
       " 'depends': 2,\n",
       " 'on': 12,\n",
       " 'ethics': 4,\n",
       " 'story': 14,\n",
       " 'of': 11,\n",
       " 'and': 0,\n",
       " 'sholey': 13,\n",
       " 'cinema': 1,\n",
       " 'good': 5,\n",
       " 'movie': 10}"
      ]
     },
     "execution_count": 41,
     "metadata": {},
     "output_type": "execute_result"
    }
   ],
   "source": [
    "vec.fit(X)\n",
    "vec.vocabulary_"
   ]
  },
  {
   "cell_type": "markdown",
   "metadata": {},
   "source": [
    "```CountVectorizer()``` has converted the documents into a set of unique words alphabetically sorted and indexed.\n",
    "\n",
    "**Stop Words**\n",
    "We can see a few trivial words such as 'and', 'is', 'of' etc. These words don't really make any difference in classifying a document. These are called 'stop words'. So we would like to get rid of them.\n",
    "\n",
    "We can remove them by passing the parameter stop_words='english' while instantiating ```CountVectorizer``` as follows."
   ]
  },
  {
   "cell_type": "code",
   "execution_count": 42,
   "metadata": {
    "ExecuteTime": {
     "end_time": "2019-10-03T13:55:22.057974Z",
     "start_time": "2019-10-03T13:55:21.868066Z"
    }
   },
   "outputs": [
    {
     "data": {
      "text/plain": [
       "{'teclov': 11,\n",
       " 'great': 5,\n",
       " 'educational': 2,\n",
       " 'institution': 7,\n",
       " 'greatness': 6,\n",
       " 'depends': 1,\n",
       " 'ethics': 3,\n",
       " 'story': 10,\n",
       " 'sholey': 9,\n",
       " 'cinema': 0,\n",
       " 'good': 4,\n",
       " 'movie': 8}"
      ]
     },
     "execution_count": 42,
     "metadata": {},
     "output_type": "execute_result"
    }
   ],
   "source": [
    "# removing the stop words\n",
    "vec = CountVectorizer(stop_words='english')\n",
    "vec.fit(X)\n",
    "vec.vocabulary_"
   ]
  },
  {
   "cell_type": "code",
   "execution_count": 43,
   "metadata": {
    "ExecuteTime": {
     "end_time": "2019-10-03T13:55:22.227857Z",
     "start_time": "2019-10-03T13:55:22.065948Z"
    }
   },
   "outputs": [
    {
     "name": "stdout",
     "output_type": "stream",
     "text": [
      "['cinema', 'depends', 'educational', 'ethics', 'good', 'great', 'greatness', 'institution', 'movie', 'sholey', 'story', 'teclov']\n",
      "12\n"
     ]
    }
   ],
   "source": [
    "# Another way of print the 'vocabulary'\n",
    "# printing feature names\n",
    "print(vec.get_feature_names())\n",
    "print(len(vec.get_feature_names()))"
   ]
  },
  {
   "cell_type": "markdown",
   "metadata": {},
   "source": [
    "So our final dictionary is made of 12 words (after discarding the stop words). Now, to do classification, we need to represent all the documents with respect to these words of the form of features.\n",
    "\n",
    "Every document will be converted into a feature *vector* representing presence of these words in that document. Let's convert each of our training documents into a feature vector."
   ]
  },
  {
   "cell_type": "code",
   "execution_count": 44,
   "metadata": {
    "ExecuteTime": {
     "end_time": "2019-10-03T13:55:22.443731Z",
     "start_time": "2019-10-03T13:55:22.238850Z"
    }
   },
   "outputs": [
    {
     "data": {
      "text/plain": [
       "<5x12 sparse matrix of type '<class 'numpy.int64'>'\n",
       "\twith 20 stored elements in Compressed Sparse Row format>"
      ]
     },
     "execution_count": 44,
     "metadata": {},
     "output_type": "execute_result"
    }
   ],
   "source": [
    "# another way of representing the features\n",
    "X_transformed = vec.transform(X)\n",
    "X_transformed"
   ]
  },
  {
   "cell_type": "markdown",
   "metadata": {},
   "source": [
    "You can see X_tranformed is a 5 x 12 sparse matrix. It has 5 rows for each of our 5 documents and 12 columns each \n",
    "for one word of the dictionary which we just created. Let us print X_transformed."
   ]
  },
  {
   "cell_type": "code",
   "execution_count": 45,
   "metadata": {
    "ExecuteTime": {
     "end_time": "2019-10-03T13:55:22.652614Z",
     "start_time": "2019-10-03T13:55:22.453726Z"
    }
   },
   "outputs": [
    {
     "name": "stdout",
     "output_type": "stream",
     "text": [
      "  (0, 2)\t1\n",
      "  (0, 5)\t1\n",
      "  (0, 7)\t1\n",
      "  (0, 11)\t1\n",
      "  (1, 1)\t1\n",
      "  (1, 2)\t1\n",
      "  (1, 3)\t1\n",
      "  (1, 6)\t1\n",
      "  (2, 2)\t1\n",
      "  (2, 3)\t1\n",
      "  (2, 5)\t1\n",
      "  (2, 6)\t1\n",
      "  (2, 10)\t1\n",
      "  (3, 0)\t1\n",
      "  (3, 5)\t1\n",
      "  (3, 9)\t1\n",
      "  (4, 1)\t1\n",
      "  (4, 4)\t2\n",
      "  (4, 8)\t1\n",
      "  (4, 10)\t1\n"
     ]
    }
   ],
   "source": [
    "print(X_transformed)"
   ]
  },
  {
   "cell_type": "markdown",
   "metadata": {},
   "source": [
    "This representation can be understood as follows:\n",
    "\n",
    "Consider first 4 rows of the output: (0,2), (0,5), (0,7) and (0,11). It says that the first document (index 0) has \n",
    "7th , 2nd , 5th and 11th 'word' present in the document, and that they appear only\n",
    "once in the document- indicated by the right hand column entry. \n",
    "\n",
    "Similarly, consider the entry (4,4) (third from bottom). It says that the fifth document has the fifth word present twice. Indeed, the 5th word('good') appears twice in the 5th document. \n",
    "\n",
    "In real problems, you often work with large documents and vocabularies, and each document contains only a few words in the vocabulary. So it would be a waste of space to store the vocabulary in a typical dataframe, since most entries would be zero. Also, matrix products, additions etc. are much faster with sparse matrices. That's why we use sparse matrices to store the data.\n",
    "\n",
    "\n",
    "Let us convert this sparse matrix into a more easily interpretable array:"
   ]
  },
  {
   "cell_type": "code",
   "execution_count": 46,
   "metadata": {
    "ExecuteTime": {
     "end_time": "2019-10-03T13:55:22.830517Z",
     "start_time": "2019-10-03T13:55:22.669604Z"
    }
   },
   "outputs": [],
   "source": [
    "# converting transformed matrix back to an array\n",
    "# note the high number of zeros\n",
    "X = X_transformed.toarray()"
   ]
  },
  {
   "cell_type": "code",
   "execution_count": 47,
   "metadata": {
    "ExecuteTime": {
     "end_time": "2019-10-03T13:55:23.040392Z",
     "start_time": "2019-10-03T13:55:22.842507Z"
    }
   },
   "outputs": [
    {
     "data": {
      "text/plain": [
       "array([[0, 0, 1, 0, 0, 1, 0, 1, 0, 0, 0, 1],\n",
       "       [0, 1, 1, 1, 0, 0, 1, 0, 0, 0, 0, 0],\n",
       "       [0, 0, 1, 1, 0, 1, 1, 0, 0, 0, 1, 0],\n",
       "       [1, 0, 0, 0, 0, 1, 0, 0, 0, 1, 0, 0],\n",
       "       [0, 1, 0, 0, 2, 0, 0, 0, 1, 0, 1, 0]], dtype=int64)"
      ]
     },
     "execution_count": 47,
     "metadata": {},
     "output_type": "execute_result"
    }
   ],
   "source": [
    "X"
   ]
  },
  {
   "cell_type": "markdown",
   "metadata": {},
   "source": [
    " To make better sense of the dataset, let us examine the vocabulary and document-term matrix together in a pandas dataframe. The way to convert a matrix into a dataframe is ```pd.DataFrame(matrix, columns=columns)```.\n"
   ]
  },
  {
   "cell_type": "code",
   "execution_count": 48,
   "metadata": {
    "ExecuteTime": {
     "end_time": "2019-10-03T13:55:23.273260Z",
     "start_time": "2019-10-03T13:55:23.054383Z"
    }
   },
   "outputs": [
    {
     "data": {
      "text/html": [
       "<div>\n",
       "<style scoped>\n",
       "    .dataframe tbody tr th:only-of-type {\n",
       "        vertical-align: middle;\n",
       "    }\n",
       "\n",
       "    .dataframe tbody tr th {\n",
       "        vertical-align: top;\n",
       "    }\n",
       "\n",
       "    .dataframe thead th {\n",
       "        text-align: right;\n",
       "    }\n",
       "</style>\n",
       "<table border=\"1\" class=\"dataframe\">\n",
       "  <thead>\n",
       "    <tr style=\"text-align: right;\">\n",
       "      <th></th>\n",
       "      <th>cinema</th>\n",
       "      <th>depends</th>\n",
       "      <th>educational</th>\n",
       "      <th>ethics</th>\n",
       "      <th>good</th>\n",
       "      <th>great</th>\n",
       "      <th>greatness</th>\n",
       "      <th>institution</th>\n",
       "      <th>movie</th>\n",
       "      <th>sholey</th>\n",
       "      <th>story</th>\n",
       "      <th>teclov</th>\n",
       "    </tr>\n",
       "  </thead>\n",
       "  <tbody>\n",
       "    <tr>\n",
       "      <td>0</td>\n",
       "      <td>0</td>\n",
       "      <td>0</td>\n",
       "      <td>1</td>\n",
       "      <td>0</td>\n",
       "      <td>0</td>\n",
       "      <td>1</td>\n",
       "      <td>0</td>\n",
       "      <td>1</td>\n",
       "      <td>0</td>\n",
       "      <td>0</td>\n",
       "      <td>0</td>\n",
       "      <td>1</td>\n",
       "    </tr>\n",
       "    <tr>\n",
       "      <td>1</td>\n",
       "      <td>0</td>\n",
       "      <td>1</td>\n",
       "      <td>1</td>\n",
       "      <td>1</td>\n",
       "      <td>0</td>\n",
       "      <td>0</td>\n",
       "      <td>1</td>\n",
       "      <td>0</td>\n",
       "      <td>0</td>\n",
       "      <td>0</td>\n",
       "      <td>0</td>\n",
       "      <td>0</td>\n",
       "    </tr>\n",
       "    <tr>\n",
       "      <td>2</td>\n",
       "      <td>0</td>\n",
       "      <td>0</td>\n",
       "      <td>1</td>\n",
       "      <td>1</td>\n",
       "      <td>0</td>\n",
       "      <td>1</td>\n",
       "      <td>1</td>\n",
       "      <td>0</td>\n",
       "      <td>0</td>\n",
       "      <td>0</td>\n",
       "      <td>1</td>\n",
       "      <td>0</td>\n",
       "    </tr>\n",
       "    <tr>\n",
       "      <td>3</td>\n",
       "      <td>1</td>\n",
       "      <td>0</td>\n",
       "      <td>0</td>\n",
       "      <td>0</td>\n",
       "      <td>0</td>\n",
       "      <td>1</td>\n",
       "      <td>0</td>\n",
       "      <td>0</td>\n",
       "      <td>0</td>\n",
       "      <td>1</td>\n",
       "      <td>0</td>\n",
       "      <td>0</td>\n",
       "    </tr>\n",
       "    <tr>\n",
       "      <td>4</td>\n",
       "      <td>0</td>\n",
       "      <td>1</td>\n",
       "      <td>0</td>\n",
       "      <td>0</td>\n",
       "      <td>2</td>\n",
       "      <td>0</td>\n",
       "      <td>0</td>\n",
       "      <td>0</td>\n",
       "      <td>1</td>\n",
       "      <td>0</td>\n",
       "      <td>1</td>\n",
       "      <td>0</td>\n",
       "    </tr>\n",
       "  </tbody>\n",
       "</table>\n",
       "</div>"
      ],
      "text/plain": [
       "   cinema  depends  educational  ethics  good  great  greatness  institution  \\\n",
       "0       0        0            1       0     0      1          0            1   \n",
       "1       0        1            1       1     0      0          1            0   \n",
       "2       0        0            1       1     0      1          1            0   \n",
       "3       1        0            0       0     0      1          0            0   \n",
       "4       0        1            0       0     2      0          0            0   \n",
       "\n",
       "   movie  sholey  story  teclov  \n",
       "0      0       0      0       1  \n",
       "1      0       0      0       0  \n",
       "2      0       0      1       0  \n",
       "3      0       1      0       0  \n",
       "4      1       0      1       0  "
      ]
     },
     "execution_count": 48,
     "metadata": {},
     "output_type": "execute_result"
    }
   ],
   "source": [
    "# converting matrix to pandas DataFrame\n",
    "pd.DataFrame(X, columns = vec.get_feature_names())"
   ]
  },
  {
   "cell_type": "markdown",
   "metadata": {},
   "source": [
    "This table shows how many times a particular word occurs in document. In other words, this is a frequency table of the words.\n",
    "\n",
    "A corpus of documents can thus be represented by a matrix with one row per document and one column per\n",
    "token (e.g. word) occurring in the corpus.\n",
    "\n",
    "A corpus of documents can thus be represented by a matrix with one row per document and one column per\n",
    "token (e.g. word) occurring in the corpus.\n",
    "\n",
    "#### So, the 4 steps for vectorization are as follows\n",
    "\n",
    "- Import\n",
    "- Instantiate\n",
    "- Fit \n",
    "- Transform\n",
    "\n",
    "Let us summarise all we have done till now:\n",
    "\n",
    "- ```vect.fit(train)``` learns the vocabulary of the training data\n",
    "- ```vect.transform(train)``` uses the fitted vocabulary to build a document-term matrix from the training data\n",
    "- ```vect.transform(test)``` uses the fitted vocabulary to build a document-term matrix from the testing data (and ignores tokens it hasn't seen before)"
   ]
  },
  {
   "cell_type": "code",
   "execution_count": 54,
   "metadata": {
    "ExecuteTime": {
     "end_time": "2019-10-03T13:58:28.545784Z",
     "start_time": "2019-10-03T13:58:28.519798Z"
    }
   },
   "outputs": [
    {
     "data": {
      "text/html": [
       "<div>\n",
       "<style scoped>\n",
       "    .dataframe tbody tr th:only-of-type {\n",
       "        vertical-align: middle;\n",
       "    }\n",
       "\n",
       "    .dataframe tbody tr th {\n",
       "        vertical-align: top;\n",
       "    }\n",
       "\n",
       "    .dataframe thead th {\n",
       "        text-align: right;\n",
       "    }\n",
       "</style>\n",
       "<table border=\"1\" class=\"dataframe\">\n",
       "  <thead>\n",
       "    <tr style=\"text-align: right;\">\n",
       "      <th></th>\n",
       "      <th>Document</th>\n",
       "      <th>Class</th>\n",
       "    </tr>\n",
       "  </thead>\n",
       "  <tbody>\n",
       "    <tr>\n",
       "      <td>0</td>\n",
       "      <td>very good educational institute</td>\n",
       "      <td>education</td>\n",
       "    </tr>\n",
       "  </tbody>\n",
       "</table>\n",
       "</div>"
      ],
      "text/plain": [
       "                          Document      Class\n",
       "0  very good educational institute  education"
      ]
     },
     "execution_count": 54,
     "metadata": {},
     "output_type": "execute_result"
    }
   ],
   "source": [
    "test_docs = pd.read_csv(\"example_test.csv\")\n",
    "# text in column 1, classifier in column 2\n",
    "test_docs"
   ]
  },
  {
   "cell_type": "code",
   "execution_count": 55,
   "metadata": {
    "ExecuteTime": {
     "end_time": "2019-10-03T13:58:29.140444Z",
     "start_time": "2019-10-03T13:58:29.125450Z"
    }
   },
   "outputs": [
    {
     "data": {
      "text/html": [
       "<div>\n",
       "<style scoped>\n",
       "    .dataframe tbody tr th:only-of-type {\n",
       "        vertical-align: middle;\n",
       "    }\n",
       "\n",
       "    .dataframe tbody tr th {\n",
       "        vertical-align: top;\n",
       "    }\n",
       "\n",
       "    .dataframe thead th {\n",
       "        text-align: right;\n",
       "    }\n",
       "</style>\n",
       "<table border=\"1\" class=\"dataframe\">\n",
       "  <thead>\n",
       "    <tr style=\"text-align: right;\">\n",
       "      <th></th>\n",
       "      <th>Document</th>\n",
       "      <th>Class</th>\n",
       "    </tr>\n",
       "  </thead>\n",
       "  <tbody>\n",
       "    <tr>\n",
       "      <td>0</td>\n",
       "      <td>very good educational institute</td>\n",
       "      <td>1</td>\n",
       "    </tr>\n",
       "  </tbody>\n",
       "</table>\n",
       "</div>"
      ],
      "text/plain": [
       "                          Document  Class\n",
       "0  very good educational institute      1"
      ]
     },
     "execution_count": 55,
     "metadata": {},
     "output_type": "execute_result"
    }
   ],
   "source": [
    "# convert label to a numerical variable\n",
    "test_docs['Class'] = test_docs.Class.map({'education' : 1, 'cinema' : 0})\n",
    "test_docs"
   ]
  },
  {
   "cell_type": "code",
   "execution_count": 57,
   "metadata": {
    "ExecuteTime": {
     "end_time": "2019-10-03T14:00:33.722936Z",
     "start_time": "2019-10-03T14:00:33.711941Z"
    }
   },
   "outputs": [
    {
     "name": "stdout",
     "output_type": "stream",
     "text": [
      "X_test\n",
      "['very good educational institute']\n",
      "Y_test\n",
      "[1]\n"
     ]
    },
    {
     "name": "stderr",
     "output_type": "stream",
     "text": [
      "C:\\Users\\d33ps3curity\\AppData\\Local\\Programs\\Python\\Python37-32\\lib\\site-packages\\ipykernel_launcher.py:1: FutureWarning: Method .as_matrix will be removed in a future version. Use .values instead.\n",
      "  \"\"\"Entry point for launching an IPython kernel.\n"
     ]
    }
   ],
   "source": [
    "test_numpy_array = test_docs.as_matrix()\n",
    "X_test = test_numpy_array[:, 0]\n",
    "Y_test = test_numpy_array[:, 1]\n",
    "Y_test = Y_test.astype('int')\n",
    "print(\"X_test\")\n",
    "print(X_test)\n",
    "print(\"Y_test\")\n",
    "print(Y_test)"
   ]
  },
  {
   "cell_type": "code",
   "execution_count": 59,
   "metadata": {
    "ExecuteTime": {
     "end_time": "2019-10-03T14:01:16.822556Z",
     "start_time": "2019-10-03T14:01:16.813555Z"
    }
   },
   "outputs": [
    {
     "data": {
      "text/plain": [
       "<1x12 sparse matrix of type '<class 'numpy.int64'>'\n",
       "\twith 2 stored elements in Compressed Sparse Row format>"
      ]
     },
     "execution_count": 59,
     "metadata": {},
     "output_type": "execute_result"
    }
   ],
   "source": [
    "X_test_transformed = vec.transform(X_test)\n",
    "X_test_transformed"
   ]
  },
  {
   "cell_type": "code",
   "execution_count": 60,
   "metadata": {
    "ExecuteTime": {
     "end_time": "2019-10-03T14:01:43.830892Z",
     "start_time": "2019-10-03T14:01:43.822896Z"
    }
   },
   "outputs": [
    {
     "data": {
      "text/plain": [
       "array([[0, 0, 1, 0, 1, 0, 0, 0, 0, 0, 0, 0]], dtype=int64)"
      ]
     },
     "execution_count": 60,
     "metadata": {},
     "output_type": "execute_result"
    }
   ],
   "source": [
    "X_test = X_test_transformed.toarray()\n",
    "X_test"
   ]
  },
  {
   "cell_type": "markdown",
   "metadata": {},
   "source": [
    "## Multinomial Naive Bayes"
   ]
  },
  {
   "cell_type": "code",
   "execution_count": 61,
   "metadata": {
    "ExecuteTime": {
     "end_time": "2019-10-03T14:04:52.598249Z",
     "start_time": "2019-10-03T14:04:52.534283Z"
    }
   },
   "outputs": [
    {
     "data": {
      "text/plain": [
       "array([[0.43859649, 0.56140351]])"
      ]
     },
     "execution_count": 61,
     "metadata": {},
     "output_type": "execute_result"
    }
   ],
   "source": [
    "# building a multinomial NB model\n",
    "from sklearn.naive_bayes import MultinomialNB\n",
    "\n",
    "# instantiate NB class\n",
    "mnb = MultinomialNB()\n",
    "\n",
    "# fitting the model on training data\n",
    "mnb.fit(X, Y)\n",
    "\n",
    "# predicting probabilities of test data\n",
    "mnb.predict_proba(X_test)"
   ]
  },
  {
   "cell_type": "code",
   "execution_count": 62,
   "metadata": {
    "ExecuteTime": {
     "end_time": "2019-10-03T14:05:25.952098Z",
     "start_time": "2019-10-03T14:05:25.942100Z"
    }
   },
   "outputs": [
    {
     "name": "stdout",
     "output_type": "stream",
     "text": [
      "probability of test document belonging to class CINEMA [0.43859649]\n",
      "probability of test document belonging to class EDUCATION [0.56140351]\n"
     ]
    }
   ],
   "source": [
    "proba=mnb.predict_proba(X_test)\n",
    "print(\"probability of test document belonging to class CINEMA\" , proba[:,0])\n",
    "print(\"probability of test document belonging to class EDUCATION\" , proba[:,1])"
   ]
  },
  {
   "cell_type": "code",
   "execution_count": 63,
   "metadata": {
    "ExecuteTime": {
     "end_time": "2019-10-03T14:05:57.021863Z",
     "start_time": "2019-10-03T14:05:57.005854Z"
    }
   },
   "outputs": [
    {
     "data": {
      "text/html": [
       "<div>\n",
       "<style scoped>\n",
       "    .dataframe tbody tr th:only-of-type {\n",
       "        vertical-align: middle;\n",
       "    }\n",
       "\n",
       "    .dataframe tbody tr th {\n",
       "        vertical-align: top;\n",
       "    }\n",
       "\n",
       "    .dataframe thead th {\n",
       "        text-align: right;\n",
       "    }\n",
       "</style>\n",
       "<table border=\"1\" class=\"dataframe\">\n",
       "  <thead>\n",
       "    <tr style=\"text-align: right;\">\n",
       "      <th></th>\n",
       "      <th>Cinema</th>\n",
       "      <th>Education</th>\n",
       "    </tr>\n",
       "  </thead>\n",
       "  <tbody>\n",
       "    <tr>\n",
       "      <td>0</td>\n",
       "      <td>0.438596</td>\n",
       "      <td>0.561404</td>\n",
       "    </tr>\n",
       "  </tbody>\n",
       "</table>\n",
       "</div>"
      ],
      "text/plain": [
       "     Cinema  Education\n",
       "0  0.438596   0.561404"
      ]
     },
     "execution_count": 63,
     "metadata": {},
     "output_type": "execute_result"
    }
   ],
   "source": [
    "pd.DataFrame(proba, columns=['Cinema', 'Education'])"
   ]
  },
  {
   "cell_type": "markdown",
   "metadata": {},
   "source": [
    "## Bernoulli Naive Bayes"
   ]
  },
  {
   "cell_type": "code",
   "execution_count": 64,
   "metadata": {
    "ExecuteTime": {
     "end_time": "2019-10-03T14:08:05.704136Z",
     "start_time": "2019-10-03T14:08:05.693139Z"
    }
   },
   "outputs": [],
   "source": [
    "from sklearn.naive_bayes import BernoulliNB\n",
    "\n",
    "# instantiating bernoulli NB class\n",
    "bnb = BernoulliNB()\n",
    "\n",
    "# fitting the model\n",
    "bnb.fit(X, Y)\n",
    "\n",
    "# predicting probability of test data\n",
    "bnb.predict_proba(X_test)\n",
    "proba_bnb = bnb.predict_proba(X_test)"
   ]
  },
  {
   "cell_type": "code",
   "execution_count": 65,
   "metadata": {
    "ExecuteTime": {
     "end_time": "2019-10-03T14:08:31.174515Z",
     "start_time": "2019-10-03T14:08:31.157529Z"
    }
   },
   "outputs": [
    {
     "data": {
      "text/html": [
       "<div>\n",
       "<style scoped>\n",
       "    .dataframe tbody tr th:only-of-type {\n",
       "        vertical-align: middle;\n",
       "    }\n",
       "\n",
       "    .dataframe tbody tr th {\n",
       "        vertical-align: top;\n",
       "    }\n",
       "\n",
       "    .dataframe thead th {\n",
       "        text-align: right;\n",
       "    }\n",
       "</style>\n",
       "<table border=\"1\" class=\"dataframe\">\n",
       "  <thead>\n",
       "    <tr style=\"text-align: right;\">\n",
       "      <th></th>\n",
       "      <th>Cinema</th>\n",
       "      <th>Education</th>\n",
       "    </tr>\n",
       "  </thead>\n",
       "  <tbody>\n",
       "    <tr>\n",
       "      <td>0</td>\n",
       "      <td>0.377463</td>\n",
       "      <td>0.622537</td>\n",
       "    </tr>\n",
       "  </tbody>\n",
       "</table>\n",
       "</div>"
      ],
      "text/plain": [
       "     Cinema  Education\n",
       "0  0.377463   0.622537"
      ]
     },
     "execution_count": 65,
     "metadata": {},
     "output_type": "execute_result"
    }
   ],
   "source": [
    "pd.DataFrame(proba_bnb, columns=['Cinema', 'Education'])"
   ]
  },
  {
   "cell_type": "code",
   "execution_count": 66,
   "metadata": {
    "ExecuteTime": {
     "end_time": "2019-10-03T14:10:13.415397Z",
     "start_time": "2019-10-03T14:10:13.406402Z"
    }
   },
   "outputs": [
    {
     "data": {
      "text/plain": [
       "MultinomialNB(alpha=1.0, class_prior=None, fit_prior=True)"
      ]
     },
     "execution_count": 66,
     "metadata": {},
     "output_type": "execute_result"
    }
   ],
   "source": [
    "\n",
    "mnb"
   ]
  },
  {
   "cell_type": "code",
   "execution_count": null,
   "metadata": {},
   "outputs": [],
   "source": []
  }
 ],
 "metadata": {
  "hide_input": false,
  "kernelspec": {
   "display_name": "Python 3",
   "language": "python",
   "name": "python3"
  },
  "language_info": {
   "codemirror_mode": {
    "name": "ipython",
    "version": 3
   },
   "file_extension": ".py",
   "mimetype": "text/x-python",
   "name": "python",
   "nbconvert_exporter": "python",
   "pygments_lexer": "ipython3",
   "version": "3.7.4"
  },
  "toc": {
   "base_numbering": 1,
   "nav_menu": {},
   "number_sections": true,
   "sideBar": true,
   "skip_h1_title": false,
   "title_cell": "Table of Contents",
   "title_sidebar": "Contents",
   "toc_cell": false,
   "toc_position": {},
   "toc_section_display": true,
   "toc_window_display": false
  },
  "varInspector": {
   "cols": {
    "lenName": 16,
    "lenType": 16,
    "lenVar": 40
   },
   "kernels_config": {
    "python": {
     "delete_cmd_postfix": "",
     "delete_cmd_prefix": "del ",
     "library": "var_list.py",
     "varRefreshCmd": "print(var_dic_list())"
    },
    "r": {
     "delete_cmd_postfix": ") ",
     "delete_cmd_prefix": "rm(",
     "library": "var_list.r",
     "varRefreshCmd": "cat(var_dic_list()) "
    }
   },
   "types_to_exclude": [
    "module",
    "function",
    "builtin_function_or_method",
    "instance",
    "_Feature"
   ],
   "window_display": false
  }
 },
 "nbformat": 4,
 "nbformat_minor": 2
}
