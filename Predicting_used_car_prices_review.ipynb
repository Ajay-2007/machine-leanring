{
 "cells": [
  {
   "cell_type": "code",
   "execution_count": 334,
   "metadata": {
    "ExecuteTime": {
     "end_time": "2020-06-20T22:19:58.813618Z",
     "start_time": "2020-06-20T22:19:58.805627Z"
    }
   },
   "outputs": [],
   "source": [
    "import numpy as np\n",
    "import pandas as pd\n",
    "import matplotlib.pyplot as plt\n",
    "import seaborn as sns\n",
    "%matplotlib inline"
   ]
  },
  {
   "cell_type": "code",
   "execution_count": 335,
   "metadata": {
    "ExecuteTime": {
     "end_time": "2020-06-20T22:19:59.310620Z",
     "start_time": "2020-06-20T22:19:59.118623Z"
    }
   },
   "outputs": [],
   "source": [
    "df = pd.read_csv('sgcarmart_used_cars.csv')"
   ]
  },
  {
   "cell_type": "markdown",
   "metadata": {},
   "source": [
    "# Data Cleaning"
   ]
  },
  {
   "cell_type": "code",
   "execution_count": 336,
   "metadata": {
    "ExecuteTime": {
     "end_time": "2020-06-20T22:19:59.789623Z",
     "start_time": "2020-06-20T22:19:59.749616Z"
    }
   },
   "outputs": [
    {
     "name": "stdout",
     "output_type": "stream",
     "text": [
      "(13879, 20)\n"
     ]
    },
    {
     "data": {
      "text/html": [
       "<div>\n",
       "<style scoped>\n",
       "    .dataframe tbody tr th:only-of-type {\n",
       "        vertical-align: middle;\n",
       "    }\n",
       "\n",
       "    .dataframe tbody tr th {\n",
       "        vertical-align: top;\n",
       "    }\n",
       "\n",
       "    .dataframe thead th {\n",
       "        text-align: right;\n",
       "    }\n",
       "</style>\n",
       "<table border=\"1\" class=\"dataframe\">\n",
       "  <thead>\n",
       "    <tr style=\"text-align: right;\">\n",
       "      <th></th>\n",
       "      <th>car_id</th>\n",
       "      <th>make</th>\n",
       "      <th>model</th>\n",
       "      <th>vehicle_type</th>\n",
       "      <th>posted</th>\n",
       "      <th>owner_type</th>\n",
       "      <th>owner_count</th>\n",
       "      <th>price</th>\n",
       "      <th>dep</th>\n",
       "      <th>reg_date</th>\n",
       "      <th>man_f</th>\n",
       "      <th>mil</th>\n",
       "      <th>road_tax</th>\n",
       "      <th>coe</th>\n",
       "      <th>omv</th>\n",
       "      <th>arf</th>\n",
       "      <th>seller_name</th>\n",
       "      <th>contact_number</th>\n",
       "      <th>image_url</th>\n",
       "      <th>date_crawled</th>\n",
       "    </tr>\n",
       "  </thead>\n",
       "  <tbody>\n",
       "    <tr>\n",
       "      <td>0</td>\n",
       "      <td>860397</td>\n",
       "      <td>austin</td>\n",
       "      <td>mini</td>\n",
       "      <td>Others</td>\n",
       "      <td>18-Feb-2020</td>\n",
       "      <td>Dealer</td>\n",
       "      <td>More than 6</td>\n",
       "      <td>$33,888</td>\n",
       "      <td>N.A.</td>\n",
       "      <td>01-Apr-1978</td>\n",
       "      <td>1978</td>\n",
       "      <td>N.A.</td>\n",
       "      <td>N.A.</td>\n",
       "      <td>$19,331</td>\n",
       "      <td>N.A.</td>\n",
       "      <td>NaN</td>\n",
       "      <td>-</td>\n",
       "      <td>NaN</td>\n",
       "      <td>https://i.i-sgcm.com/cars_used/201910/860397_1...</td>\n",
       "      <td>2020/02/18</td>\n",
       "    </tr>\n",
       "    <tr>\n",
       "      <td>1</td>\n",
       "      <td>807015</td>\n",
       "      <td>fiat</td>\n",
       "      <td>abarth 850 tc nurburgring corsa</td>\n",
       "      <td>Others</td>\n",
       "      <td>18-Feb-2020</td>\n",
       "      <td>Direct Owner Sale</td>\n",
       "      <td>1</td>\n",
       "      <td>$150,000</td>\n",
       "      <td>N.A.</td>\n",
       "      <td>20-May-2011</td>\n",
       "      <td>1961</td>\n",
       "      <td>N.A.</td>\n",
       "      <td>$280 /yr</td>\n",
       "      <td>$4,230</td>\n",
       "      <td>$42,369</td>\n",
       "      <td>$42,369</td>\n",
       "      <td>Billy Tan</td>\n",
       "      <td>96949977\\t\\t\\t\\t\\t\\t\\t\\t\\t</td>\n",
       "      <td>https://i.i-sgcm.com/cars_used/201903/807015_1...</td>\n",
       "      <td>2020/02/18</td>\n",
       "    </tr>\n",
       "    <tr>\n",
       "      <td>2</td>\n",
       "      <td>807012</td>\n",
       "      <td>austin</td>\n",
       "      <td>healey 3000</td>\n",
       "      <td>Others</td>\n",
       "      <td>18-Feb-2020</td>\n",
       "      <td>Direct Owner Sale</td>\n",
       "      <td>1</td>\n",
       "      <td>$250,000</td>\n",
       "      <td>N.A.</td>\n",
       "      <td>02-Jan-2009</td>\n",
       "      <td>1965</td>\n",
       "      <td>N.A.</td>\n",
       "      <td>$280 /yr</td>\n",
       "      <td>$3,134</td>\n",
       "      <td>$20,515</td>\n",
       "      <td>$20,515</td>\n",
       "      <td>Billy Tan</td>\n",
       "      <td>96949977\\t\\t\\t\\t\\t\\t\\t\\t\\t</td>\n",
       "      <td>https://i.i-sgcm.com/cars_used/201903/807012_1...</td>\n",
       "      <td>2020/02/18</td>\n",
       "    </tr>\n",
       "    <tr>\n",
       "      <td>3</td>\n",
       "      <td>855286</td>\n",
       "      <td>volkswagen</td>\n",
       "      <td>kombi</td>\n",
       "      <td>Others</td>\n",
       "      <td>17-Feb-2020</td>\n",
       "      <td>Direct Owner Sale</td>\n",
       "      <td>1</td>\n",
       "      <td>$65,000</td>\n",
       "      <td>N.A.</td>\n",
       "      <td>02-Jul-2018</td>\n",
       "      <td>1978</td>\n",
       "      <td>N.A.</td>\n",
       "      <td>$280 /yr</td>\n",
       "      <td>$3,717</td>\n",
       "      <td>$11,992</td>\n",
       "      <td>$11,992</td>\n",
       "      <td>Ong</td>\n",
       "      <td>96643353\\t\\t\\t\\t\\t\\t\\t\\t\\t</td>\n",
       "      <td>https://i.i-sgcm.com/cars_used/201909/855286_1...</td>\n",
       "      <td>2020/02/18</td>\n",
       "    </tr>\n",
       "    <tr>\n",
       "      <td>4</td>\n",
       "      <td>782693</td>\n",
       "      <td>volkswagen</td>\n",
       "      <td>beetle 1200</td>\n",
       "      <td>Others</td>\n",
       "      <td>16-Feb-2020</td>\n",
       "      <td>Dealer</td>\n",
       "      <td>1</td>\n",
       "      <td>$32,800</td>\n",
       "      <td>N.A.</td>\n",
       "      <td>07-Aug-2018</td>\n",
       "      <td>1965</td>\n",
       "      <td>56,879 km</td>\n",
       "      <td>$280 /yr</td>\n",
       "      <td>$3,420</td>\n",
       "      <td>$4,898</td>\n",
       "      <td>$4,898</td>\n",
       "      <td>-</td>\n",
       "      <td>NaN</td>\n",
       "      <td>https://i.i-sgcm.com/cars_used/201811/782693_1...</td>\n",
       "      <td>2020/02/18</td>\n",
       "    </tr>\n",
       "  </tbody>\n",
       "</table>\n",
       "</div>"
      ],
      "text/plain": [
       "   car_id        make                             model vehicle_type  \\\n",
       "0  860397      austin                             mini        Others   \n",
       "1  807015        fiat   abarth 850 tc nurburgring corsa       Others   \n",
       "2  807012      austin                      healey 3000        Others   \n",
       "3  855286  volkswagen                            kombi        Others   \n",
       "4  782693  volkswagen                      beetle 1200        Others   \n",
       "\n",
       "        posted         owner_type  owner_count     price   dep     reg_date  \\\n",
       "0  18-Feb-2020             Dealer  More than 6   $33,888  N.A.  01-Apr-1978   \n",
       "1  18-Feb-2020  Direct Owner Sale            1  $150,000  N.A.  20-May-2011   \n",
       "2  18-Feb-2020  Direct Owner Sale            1  $250,000  N.A.  02-Jan-2009   \n",
       "3  17-Feb-2020  Direct Owner Sale            1   $65,000  N.A.  02-Jul-2018   \n",
       "4  16-Feb-2020             Dealer            1   $32,800  N.A.  07-Aug-2018   \n",
       "\n",
       "  man_f        mil  road_tax      coe      omv      arf seller_name  \\\n",
       "0  1978       N.A.      N.A.  $19,331     N.A.      NaN           -   \n",
       "1  1961       N.A.  $280 /yr   $4,230  $42,369  $42,369   Billy Tan   \n",
       "2  1965       N.A.  $280 /yr   $3,134  $20,515  $20,515   Billy Tan   \n",
       "3  1978       N.A.  $280 /yr   $3,717  $11,992  $11,992         Ong   \n",
       "4  1965  56,879 km  $280 /yr   $3,420   $4,898   $4,898           -   \n",
       "\n",
       "                contact_number  \\\n",
       "0                          NaN   \n",
       "1  96949977\\t\\t\\t\\t\\t\\t\\t\\t\\t    \n",
       "2  96949977\\t\\t\\t\\t\\t\\t\\t\\t\\t    \n",
       "3  96643353\\t\\t\\t\\t\\t\\t\\t\\t\\t    \n",
       "4                          NaN   \n",
       "\n",
       "                                           image_url date_crawled  \n",
       "0  https://i.i-sgcm.com/cars_used/201910/860397_1...   2020/02/18  \n",
       "1  https://i.i-sgcm.com/cars_used/201903/807015_1...   2020/02/18  \n",
       "2  https://i.i-sgcm.com/cars_used/201903/807012_1...   2020/02/18  \n",
       "3  https://i.i-sgcm.com/cars_used/201909/855286_1...   2020/02/18  \n",
       "4  https://i.i-sgcm.com/cars_used/201811/782693_1...   2020/02/18  "
      ]
     },
     "execution_count": 336,
     "metadata": {},
     "output_type": "execute_result"
    }
   ],
   "source": [
    "print(df.shape)\n",
    "df.head()"
   ]
  },
  {
   "cell_type": "markdown",
   "metadata": {},
   "source": [
    "New line indicators (\\n) needs to removed. I will use pandas remove() function with regex parameter set True. Similarly TL representing Turkish currency in price cell should be removed to be able make numerical analysis."
   ]
  },
  {
   "cell_type": "code",
   "execution_count": 337,
   "metadata": {
    "ExecuteTime": {
     "end_time": "2020-06-20T22:20:00.839672Z",
     "start_time": "2020-06-20T22:20:00.340619Z"
    }
   },
   "outputs": [],
   "source": [
    "df = df.replace('$','',regex=True) #remove \\n in cells"
   ]
  },
  {
   "cell_type": "code",
   "execution_count": 338,
   "metadata": {
    "ExecuteTime": {
     "end_time": "2020-06-20T22:20:01.294618Z",
     "start_time": "2020-06-20T22:20:00.951626Z"
    }
   },
   "outputs": [],
   "source": [
    "df = df.replace(',','',regex=True) #remove \\n in cells"
   ]
  },
  {
   "cell_type": "code",
   "execution_count": 339,
   "metadata": {
    "ExecuteTime": {
     "end_time": "2020-06-20T22:20:01.717617Z",
     "start_time": "2020-06-20T22:20:01.385620Z"
    }
   },
   "outputs": [],
   "source": [
    "df = df.replace('/yr','',regex=True) #remove \\n in cells"
   ]
  },
  {
   "cell_type": "code",
   "execution_count": 340,
   "metadata": {
    "ExecuteTime": {
     "end_time": "2020-06-20T22:20:01.874619Z",
     "start_time": "2020-06-20T22:20:01.845621Z"
    }
   },
   "outputs": [],
   "source": [
    "df.price = df.price.replace('price', np.nan,regex=True) #remove \\n in cells"
   ]
  },
  {
   "cell_type": "code",
   "execution_count": 341,
   "metadata": {
    "ExecuteTime": {
     "end_time": "2020-06-20T22:20:02.435616Z",
     "start_time": "2020-06-20T22:20:01.967618Z"
    }
   },
   "outputs": [],
   "source": [
    "df = df.replace('More than', '',regex=True) #remove \\n in cells"
   ]
  },
  {
   "cell_type": "code",
   "execution_count": 342,
   "metadata": {
    "ExecuteTime": {
     "end_time": "2020-06-20T22:20:02.810632Z",
     "start_time": "2020-06-20T22:20:02.542622Z"
    }
   },
   "outputs": [],
   "source": [
    "df = df.replace('N.A.',np.nan,regex=True) #remove \\n in cells"
   ]
  },
  {
   "cell_type": "code",
   "execution_count": 343,
   "metadata": {
    "ExecuteTime": {
     "end_time": "2020-06-20T22:20:03.169616Z",
     "start_time": "2020-06-20T22:20:02.903618Z"
    }
   },
   "outputs": [],
   "source": [
    "df = df.replace('nan',np.nan,regex=True) #remove \\n in cells"
   ]
  },
  {
   "cell_type": "code",
   "execution_count": 344,
   "metadata": {
    "ExecuteTime": {
     "end_time": "2020-06-20T22:20:03.282618Z",
     "start_time": "2020-06-20T22:20:03.249624Z"
    }
   },
   "outputs": [],
   "source": [
    "df.price = df.price.replace('$','',regex=True) #remove \\n in cells"
   ]
  },
  {
   "cell_type": "code",
   "execution_count": 345,
   "metadata": {
    "ExecuteTime": {
     "end_time": "2020-06-20T22:20:03.542617Z",
     "start_time": "2020-06-20T22:20:03.388630Z"
    }
   },
   "outputs": [],
   "source": [
    "df = df[df['price'].notnull()]"
   ]
  },
  {
   "cell_type": "code",
   "execution_count": 346,
   "metadata": {
    "ExecuteTime": {
     "end_time": "2020-06-20T22:20:04.158635Z",
     "start_time": "2020-06-20T22:20:03.654619Z"
    }
   },
   "outputs": [],
   "source": [
    "df = df.replace('-',' ',regex=True) #remove \\n in cells"
   ]
  },
  {
   "cell_type": "code",
   "execution_count": 347,
   "metadata": {
    "ExecuteTime": {
     "end_time": "2020-06-20T22:20:04.575621Z",
     "start_time": "2020-06-20T22:20:04.252618Z"
    }
   },
   "outputs": [],
   "source": [
    "df = df.replace('\\t','',regex=True) #remove \\n in cells"
   ]
  },
  {
   "cell_type": "code",
   "execution_count": 348,
   "metadata": {
    "ExecuteTime": {
     "end_time": "2020-06-20T22:20:04.682616Z",
     "start_time": "2020-06-20T22:20:04.672625Z"
    }
   },
   "outputs": [],
   "source": [
    "# df = df.iloc[1:]"
   ]
  },
  {
   "cell_type": "code",
   "execution_count": 349,
   "metadata": {
    "ExecuteTime": {
     "end_time": "2020-06-20T22:20:04.926670Z",
     "start_time": "2020-06-20T22:20:04.774619Z"
    }
   },
   "outputs": [],
   "source": [
    "df.mil = df.mil.replace('km', '', regex=True)  "
   ]
  },
  {
   "cell_type": "code",
   "execution_count": 350,
   "metadata": {
    "ExecuteTime": {
     "end_time": "2020-06-20T22:20:05.177677Z",
     "start_time": "2020-06-20T22:20:05.023619Z"
    }
   },
   "outputs": [],
   "source": [
    "df.mil = df.mil.replace('\\(.*\\)', '', regex=True)  "
   ]
  },
  {
   "cell_type": "code",
   "execution_count": null,
   "metadata": {
    "ExecuteTime": {
     "end_time": "2020-06-20T21:57:15.405994Z",
     "start_time": "2020-06-20T21:57:15.394987Z"
    }
   },
   "outputs": [],
   "source": []
  },
  {
   "cell_type": "code",
   "execution_count": 351,
   "metadata": {
    "ExecuteTime": {
     "end_time": "2020-06-20T22:20:05.510642Z",
     "start_time": "2020-06-20T22:20:05.360621Z"
    }
   },
   "outputs": [],
   "source": [
    "df = df[df['dep'].notnull()]"
   ]
  },
  {
   "cell_type": "code",
   "execution_count": 352,
   "metadata": {
    "ExecuteTime": {
     "end_time": "2020-06-20T22:20:06.009660Z",
     "start_time": "2020-06-20T22:20:05.709620Z"
    }
   },
   "outputs": [],
   "source": [
    "df = df[df['mil'].notnull()]"
   ]
  },
  {
   "cell_type": "code",
   "execution_count": 353,
   "metadata": {
    "ExecuteTime": {
     "end_time": "2020-06-20T22:20:06.355615Z",
     "start_time": "2020-06-20T22:20:06.096621Z"
    }
   },
   "outputs": [],
   "source": [
    "df = df[df['omv'].notnull()]"
   ]
  },
  {
   "cell_type": "code",
   "execution_count": 354,
   "metadata": {
    "ExecuteTime": {
     "end_time": "2020-06-20T22:20:06.610673Z",
     "start_time": "2020-06-20T22:20:06.453625Z"
    }
   },
   "outputs": [],
   "source": [
    "df = df[df['coe'].notnull()]"
   ]
  },
  {
   "cell_type": "code",
   "execution_count": 355,
   "metadata": {
    "ExecuteTime": {
     "end_time": "2020-06-20T22:20:06.893613Z",
     "start_time": "2020-06-20T22:20:06.878627Z"
    }
   },
   "outputs": [],
   "source": [
    "df = df[df['arf'].notnull()]"
   ]
  },
  {
   "cell_type": "code",
   "execution_count": 356,
   "metadata": {
    "ExecuteTime": {
     "end_time": "2020-06-20T22:20:07.206614Z",
     "start_time": "2020-06-20T22:20:07.192619Z"
    }
   },
   "outputs": [],
   "source": [
    "df = df[df['man_f'].notnull()]"
   ]
  },
  {
   "cell_type": "code",
   "execution_count": 357,
   "metadata": {
    "ExecuteTime": {
     "end_time": "2020-06-20T22:20:07.572622Z",
     "start_time": "2020-06-20T22:20:07.558620Z"
    }
   },
   "outputs": [],
   "source": [
    "df = df[df['posted'].notnull()]"
   ]
  },
  {
   "cell_type": "code",
   "execution_count": 358,
   "metadata": {
    "ExecuteTime": {
     "end_time": "2020-06-20T22:20:07.906619Z",
     "start_time": "2020-06-20T22:20:07.895621Z"
    }
   },
   "outputs": [
    {
     "data": {
      "text/plain": [
       "0"
      ]
     },
     "execution_count": 358,
     "metadata": {},
     "output_type": "execute_result"
    }
   ],
   "source": [
    "df.posted.isna().sum()"
   ]
  },
  {
   "cell_type": "code",
   "execution_count": 359,
   "metadata": {
    "ExecuteTime": {
     "end_time": "2020-06-20T22:20:08.383622Z",
     "start_time": "2020-06-20T22:20:08.368626Z"
    }
   },
   "outputs": [],
   "source": [
    "df[\"price\"] = df[\"price\"].apply(lambda x : str(x).replace('$', '')) "
   ]
  },
  {
   "cell_type": "code",
   "execution_count": 360,
   "metadata": {
    "ExecuteTime": {
     "end_time": "2020-06-20T22:20:08.896625Z",
     "start_time": "2020-06-20T22:20:08.879635Z"
    }
   },
   "outputs": [],
   "source": [
    "df[\"road_tax\"] = df[\"road_tax\"].apply(lambda x : str(x).replace('$', '')) "
   ]
  },
  {
   "cell_type": "code",
   "execution_count": 361,
   "metadata": {
    "ExecuteTime": {
     "end_time": "2020-06-20T22:20:09.380620Z",
     "start_time": "2020-06-20T22:20:09.361631Z"
    }
   },
   "outputs": [],
   "source": [
    "df[\"dep\"] = df[\"dep\"].apply(lambda x : str(x).replace('$', '')) "
   ]
  },
  {
   "cell_type": "code",
   "execution_count": 362,
   "metadata": {
    "ExecuteTime": {
     "end_time": "2020-06-20T22:20:09.705620Z",
     "start_time": "2020-06-20T22:20:09.690620Z"
    }
   },
   "outputs": [],
   "source": [
    "df[\"coe\"] = df[\"coe\"].apply(lambda x : str(x).replace('$', '')) "
   ]
  },
  {
   "cell_type": "code",
   "execution_count": 363,
   "metadata": {
    "ExecuteTime": {
     "end_time": "2020-06-20T22:20:10.016621Z",
     "start_time": "2020-06-20T22:20:10.003619Z"
    }
   },
   "outputs": [],
   "source": [
    "df[\"omv\"] = df[\"omv\"].apply(lambda x : str(x).replace('$', '')) "
   ]
  },
  {
   "cell_type": "code",
   "execution_count": 364,
   "metadata": {
    "ExecuteTime": {
     "end_time": "2020-06-20T22:20:10.323620Z",
     "start_time": "2020-06-20T22:20:10.306620Z"
    }
   },
   "outputs": [],
   "source": [
    "df[\"arf\"] = df[\"arf\"].apply(lambda x : str(x).replace('$', '')) "
   ]
  },
  {
   "cell_type": "code",
   "execution_count": 365,
   "metadata": {
    "ExecuteTime": {
     "end_time": "2020-06-20T22:20:10.598614Z",
     "start_time": "2020-06-20T22:20:10.582619Z"
    }
   },
   "outputs": [],
   "source": [
    "df = df[df['mil'].notnull()]"
   ]
  },
  {
   "cell_type": "code",
   "execution_count": 366,
   "metadata": {
    "ExecuteTime": {
     "end_time": "2020-06-20T22:20:10.982622Z",
     "start_time": "2020-06-20T22:20:10.975621Z"
    }
   },
   "outputs": [],
   "source": [
    "df.price = df.price.replace(r'\\D\\W', '')"
   ]
  },
  {
   "cell_type": "code",
   "execution_count": 367,
   "metadata": {
    "ExecuteTime": {
     "end_time": "2020-06-20T22:20:11.354639Z",
     "start_time": "2020-06-20T22:20:11.335623Z"
    }
   },
   "outputs": [],
   "source": [
    "df.price = df.price.astype('float64')"
   ]
  },
  {
   "cell_type": "code",
   "execution_count": 368,
   "metadata": {
    "ExecuteTime": {
     "end_time": "2020-06-20T22:20:13.525640Z",
     "start_time": "2020-06-20T22:20:11.674618Z"
    }
   },
   "outputs": [],
   "source": [
    "df.reg_date = pd.to_datetime(df.reg_date)"
   ]
  },
  {
   "cell_type": "code",
   "execution_count": 369,
   "metadata": {
    "ExecuteTime": {
     "end_time": "2020-06-20T22:20:13.785619Z",
     "start_time": "2020-06-20T22:20:13.729616Z"
    }
   },
   "outputs": [],
   "source": [
    "df.posted = pd.to_datetime(df.posted)"
   ]
  },
  {
   "cell_type": "code",
   "execution_count": 370,
   "metadata": {
    "ExecuteTime": {
     "end_time": "2020-06-20T22:20:14.250618Z",
     "start_time": "2020-06-20T22:20:14.201620Z"
    }
   },
   "outputs": [],
   "source": [
    "# df = df[['car_id', 'make', 'model', 'vehicle_type', 'posted', 'owner_type',\n",
    "#        'owner_count', 'price', 'dep', 'reg_date', 'man_f', 'mil', 'road_tax',\n",
    "#        'coe', 'omv', 'arf']]\n",
    "\n",
    "df = df[['car_id', 'model', 'make', 'vehicle_type', 'owner_count','owner_type', \n",
    "         'posted','reg_date', 'man_f','mil', 'dep', 'road_tax',\n",
    "       'coe', 'omv', 'arf', 'price']]"
   ]
  },
  {
   "cell_type": "code",
   "execution_count": 371,
   "metadata": {
    "ExecuteTime": {
     "end_time": "2020-06-20T22:20:19.451793Z",
     "start_time": "2020-06-20T22:20:19.409798Z"
    }
   },
   "outputs": [
    {
     "data": {
      "text/html": [
       "<div>\n",
       "<style scoped>\n",
       "    .dataframe tbody tr th:only-of-type {\n",
       "        vertical-align: middle;\n",
       "    }\n",
       "\n",
       "    .dataframe tbody tr th {\n",
       "        vertical-align: top;\n",
       "    }\n",
       "\n",
       "    .dataframe thead th {\n",
       "        text-align: right;\n",
       "    }\n",
       "</style>\n",
       "<table border=\"1\" class=\"dataframe\">\n",
       "  <thead>\n",
       "    <tr style=\"text-align: right;\">\n",
       "      <th></th>\n",
       "      <th>car_id</th>\n",
       "      <th>model</th>\n",
       "      <th>make</th>\n",
       "      <th>vehicle_type</th>\n",
       "      <th>owner_count</th>\n",
       "      <th>owner_type</th>\n",
       "      <th>posted</th>\n",
       "      <th>reg_date</th>\n",
       "      <th>man_f</th>\n",
       "      <th>mil</th>\n",
       "      <th>dep</th>\n",
       "      <th>road_tax</th>\n",
       "      <th>coe</th>\n",
       "      <th>omv</th>\n",
       "      <th>arf</th>\n",
       "      <th>price</th>\n",
       "    </tr>\n",
       "  </thead>\n",
       "  <tbody>\n",
       "    <tr>\n",
       "      <td>29</td>\n",
       "      <td>875725</td>\n",
       "      <td>healey 3000 mk ii</td>\n",
       "      <td>austin</td>\n",
       "      <td>Others</td>\n",
       "      <td>1</td>\n",
       "      <td>Dealer</td>\n",
       "      <td>2019-12-21</td>\n",
       "      <td>2019-08-05</td>\n",
       "      <td>1964</td>\n",
       "      <td>700</td>\n",
       "      <td>30640</td>\n",
       "      <td>280</td>\n",
       "      <td>3994</td>\n",
       "      <td>40374</td>\n",
       "      <td>48524</td>\n",
       "      <td>289999.0</td>\n",
       "    </tr>\n",
       "    <tr>\n",
       "      <td>36</td>\n",
       "      <td>868033</td>\n",
       "      <td>shuttle hybrid 1.5a</td>\n",
       "      <td>honda</td>\n",
       "      <td>Stationwagon</td>\n",
       "      <td>1</td>\n",
       "      <td>Dealer</td>\n",
       "      <td>2020-02-18</td>\n",
       "      <td>2018-10-04</td>\n",
       "      <td>2018</td>\n",
       "      <td>19000</td>\n",
       "      <td>8590</td>\n",
       "      <td>nan</td>\n",
       "      <td>31001</td>\n",
       "      <td>20941</td>\n",
       "      <td>11318</td>\n",
       "      <td>79800.0</td>\n",
       "    </tr>\n",
       "    <tr>\n",
       "      <td>37</td>\n",
       "      <td>881918</td>\n",
       "      <td>astra sports tourer 1.0a</td>\n",
       "      <td>opel</td>\n",
       "      <td>Stationwagon</td>\n",
       "      <td>1</td>\n",
       "      <td>Dealer</td>\n",
       "      <td>2020-02-18</td>\n",
       "      <td>2017-12-07</td>\n",
       "      <td>2017</td>\n",
       "      <td>64000</td>\n",
       "      <td>6900</td>\n",
       "      <td>392</td>\n",
       "      <td>46791</td>\n",
       "      <td>20616</td>\n",
       "      <td>5863</td>\n",
       "      <td>56800.0</td>\n",
       "    </tr>\n",
       "    <tr>\n",
       "      <td>38</td>\n",
       "      <td>871553</td>\n",
       "      <td>c class c200 cgi estate avantgarde</td>\n",
       "      <td>mercedes benz</td>\n",
       "      <td>Stationwagon</td>\n",
       "      <td>1</td>\n",
       "      <td>Dealer</td>\n",
       "      <td>2020-02-18</td>\n",
       "      <td>2015-06-23</td>\n",
       "      <td>2014</td>\n",
       "      <td>113000</td>\n",
       "      <td>14960</td>\n",
       "      <td>1202</td>\n",
       "      <td>68668</td>\n",
       "      <td>38344</td>\n",
       "      <td>35682</td>\n",
       "      <td>97800.0</td>\n",
       "    </tr>\n",
       "    <tr>\n",
       "      <td>39</td>\n",
       "      <td>887152</td>\n",
       "      <td>shuttle 1.5a g</td>\n",
       "      <td>honda</td>\n",
       "      <td>Stationwagon</td>\n",
       "      <td>1</td>\n",
       "      <td>Dealer</td>\n",
       "      <td>2020-02-18</td>\n",
       "      <td>2017-06-05</td>\n",
       "      <td>2016</td>\n",
       "      <td>82000</td>\n",
       "      <td>8060</td>\n",
       "      <td>682</td>\n",
       "      <td>52000</td>\n",
       "      <td>19387</td>\n",
       "      <td>9387</td>\n",
       "      <td>63500.0</td>\n",
       "    </tr>\n",
       "  </tbody>\n",
       "</table>\n",
       "</div>"
      ],
      "text/plain": [
       "    car_id                                model           make  vehicle_type  \\\n",
       "29  875725                   healey 3000 mk ii          austin        Others   \n",
       "36  868033                  shuttle hybrid 1.5a          honda  Stationwagon   \n",
       "37  881918             astra sports tourer 1.0a           opel  Stationwagon   \n",
       "38  871553   c class c200 cgi estate avantgarde  mercedes benz  Stationwagon   \n",
       "39  887152                       shuttle 1.5a g          honda  Stationwagon   \n",
       "\n",
       "   owner_count owner_type     posted   reg_date man_f       mil     dep  \\\n",
       "29           1     Dealer 2019-12-21 2019-08-05  1964      700   30640    \n",
       "36           1     Dealer 2020-02-18 2018-10-04  2018   19000     8590    \n",
       "37           1     Dealer 2020-02-18 2017-12-07  2017   64000     6900    \n",
       "38           1     Dealer 2020-02-18 2015-06-23  2014  113000    14960    \n",
       "39           1     Dealer 2020-02-18 2017-06-05  2016   82000     8060    \n",
       "\n",
       "   road_tax    coe    omv    arf     price  \n",
       "29     280    3994  40374  48524  289999.0  \n",
       "36      nan  31001  20941  11318   79800.0  \n",
       "37     392   46791  20616   5863   56800.0  \n",
       "38    1202   68668  38344  35682   97800.0  \n",
       "39     682   52000  19387   9387   63500.0  "
      ]
     },
     "execution_count": 371,
     "metadata": {},
     "output_type": "execute_result"
    }
   ],
   "source": [
    "df.head()"
   ]
  },
  {
   "cell_type": "code",
   "execution_count": 372,
   "metadata": {
    "ExecuteTime": {
     "end_time": "2020-06-20T22:20:38.608550Z",
     "start_time": "2020-06-20T22:20:38.584550Z"
    }
   },
   "outputs": [
    {
     "name": "stdout",
     "output_type": "stream",
     "text": [
      "<class 'pandas.core.frame.DataFrame'>\n",
      "Int64Index: 8916 entries, 29 to 13877\n",
      "Data columns (total 16 columns):\n",
      "car_id          8916 non-null object\n",
      "model           8915 non-null object\n",
      "make            8915 non-null object\n",
      "vehicle_type    8916 non-null object\n",
      "owner_count     8916 non-null object\n",
      "owner_type      8916 non-null object\n",
      "posted          8916 non-null datetime64[ns]\n",
      "reg_date        8916 non-null datetime64[ns]\n",
      "man_f           8916 non-null object\n",
      "mil             8916 non-null object\n",
      "dep             8916 non-null object\n",
      "road_tax        8916 non-null object\n",
      "coe             8916 non-null object\n",
      "omv             8916 non-null object\n",
      "arf             8916 non-null object\n",
      "price           8916 non-null float64\n",
      "dtypes: datetime64[ns](2), float64(1), object(13)\n",
      "memory usage: 731.4+ KB\n"
     ]
    }
   ],
   "source": [
    "df.info()"
   ]
  },
  {
   "cell_type": "code",
   "execution_count": 373,
   "metadata": {
    "ExecuteTime": {
     "end_time": "2020-06-20T22:22:51.272301Z",
     "start_time": "2020-06-20T22:22:51.260302Z"
    }
   },
   "outputs": [],
   "source": [
    "df.man_f = df.man_f.astype(np.int32)"
   ]
  },
  {
   "cell_type": "code",
   "execution_count": 374,
   "metadata": {
    "ExecuteTime": {
     "end_time": "2020-06-20T22:25:24.885800Z",
     "start_time": "2020-06-20T22:25:24.821799Z"
    }
   },
   "outputs": [
    {
     "name": "stderr",
     "output_type": "stream",
     "text": [
      "C:\\Users\\d33ps3curity\\AppData\\Local\\Programs\\Python\\Python37-32\\lib\\site-packages\\ipykernel_launcher.py:4: UserWarning: Pandas doesn't allow columns to be created via a new attribute name - see https://pandas.pydata.org/pandas-docs/stable/indexing.html#attribute-access\n",
      "  after removing the cwd from sys.path.\n"
     ]
    }
   ],
   "source": [
    "df.owner_count = df.owner_count.astype(np.int32)\n",
    "df.mil = df.mil.astype(np.float64)\n",
    "df.dep = df.dep.astype(np.float64)\n",
    "df.raod_tax = df.road_tax.astype(np.float64)\n",
    "df.coe = df.coe.astype(np.float64)\n",
    "df.omv = df.omv.astype(np.float64)\n",
    "df.arf = df.arf.astype(np.float64)"
   ]
  },
  {
   "cell_type": "code",
   "execution_count": 375,
   "metadata": {
    "ExecuteTime": {
     "end_time": "2020-06-20T22:25:33.871910Z",
     "start_time": "2020-06-20T22:25:33.848934Z"
    }
   },
   "outputs": [
    {
     "name": "stdout",
     "output_type": "stream",
     "text": [
      "<class 'pandas.core.frame.DataFrame'>\n",
      "Int64Index: 8916 entries, 29 to 13877\n",
      "Data columns (total 16 columns):\n",
      "car_id          8916 non-null object\n",
      "model           8915 non-null object\n",
      "make            8915 non-null object\n",
      "vehicle_type    8916 non-null object\n",
      "owner_count     8916 non-null int32\n",
      "owner_type      8916 non-null object\n",
      "posted          8916 non-null datetime64[ns]\n",
      "reg_date        8916 non-null datetime64[ns]\n",
      "man_f           8916 non-null int32\n",
      "mil             8916 non-null float64\n",
      "dep             8916 non-null float64\n",
      "road_tax        8916 non-null object\n",
      "coe             8916 non-null float64\n",
      "omv             8916 non-null float64\n",
      "arf             8916 non-null float64\n",
      "price           8916 non-null float64\n",
      "dtypes: datetime64[ns](2), float64(6), int32(2), object(6)\n",
      "memory usage: 905.5+ KB\n"
     ]
    }
   ],
   "source": [
    "df.info()"
   ]
  },
  {
   "cell_type": "code",
   "execution_count": 376,
   "metadata": {
    "ExecuteTime": {
     "end_time": "2020-06-20T22:26:04.267968Z",
     "start_time": "2020-06-20T22:25:57.125931Z"
    }
   },
   "outputs": [],
   "source": [
    "df.to_excel('cleaned_dataset_final_v3.xlsx')"
   ]
  },
  {
   "cell_type": "code",
   "execution_count": 377,
   "metadata": {
    "ExecuteTime": {
     "end_time": "2020-06-20T22:26:04.575931Z",
     "start_time": "2020-06-20T22:26:04.513940Z"
    }
   },
   "outputs": [
    {
     "data": {
      "text/html": [
       "<div>\n",
       "<style scoped>\n",
       "    .dataframe tbody tr th:only-of-type {\n",
       "        vertical-align: middle;\n",
       "    }\n",
       "\n",
       "    .dataframe tbody tr th {\n",
       "        vertical-align: top;\n",
       "    }\n",
       "\n",
       "    .dataframe thead th {\n",
       "        text-align: right;\n",
       "    }\n",
       "</style>\n",
       "<table border=\"1\" class=\"dataframe\">\n",
       "  <thead>\n",
       "    <tr style=\"text-align: right;\">\n",
       "      <th></th>\n",
       "      <th>car_id</th>\n",
       "      <th>model</th>\n",
       "      <th>make</th>\n",
       "      <th>vehicle_type</th>\n",
       "      <th>owner_count</th>\n",
       "      <th>owner_type</th>\n",
       "      <th>posted</th>\n",
       "      <th>reg_date</th>\n",
       "      <th>man_f</th>\n",
       "      <th>mil</th>\n",
       "      <th>dep</th>\n",
       "      <th>road_tax</th>\n",
       "      <th>coe</th>\n",
       "      <th>omv</th>\n",
       "      <th>arf</th>\n",
       "      <th>price</th>\n",
       "    </tr>\n",
       "  </thead>\n",
       "  <tbody>\n",
       "    <tr>\n",
       "      <td>29</td>\n",
       "      <td>875725</td>\n",
       "      <td>healey 3000 mk ii</td>\n",
       "      <td>austin</td>\n",
       "      <td>Others</td>\n",
       "      <td>1</td>\n",
       "      <td>Dealer</td>\n",
       "      <td>2019-12-21</td>\n",
       "      <td>2019-08-05</td>\n",
       "      <td>1964</td>\n",
       "      <td>700.0</td>\n",
       "      <td>30640.0</td>\n",
       "      <td>280</td>\n",
       "      <td>3994.0</td>\n",
       "      <td>40374.0</td>\n",
       "      <td>48524.0</td>\n",
       "      <td>289999.0</td>\n",
       "    </tr>\n",
       "    <tr>\n",
       "      <td>36</td>\n",
       "      <td>868033</td>\n",
       "      <td>shuttle hybrid 1.5a</td>\n",
       "      <td>honda</td>\n",
       "      <td>Stationwagon</td>\n",
       "      <td>1</td>\n",
       "      <td>Dealer</td>\n",
       "      <td>2020-02-18</td>\n",
       "      <td>2018-10-04</td>\n",
       "      <td>2018</td>\n",
       "      <td>19000.0</td>\n",
       "      <td>8590.0</td>\n",
       "      <td>nan</td>\n",
       "      <td>31001.0</td>\n",
       "      <td>20941.0</td>\n",
       "      <td>11318.0</td>\n",
       "      <td>79800.0</td>\n",
       "    </tr>\n",
       "    <tr>\n",
       "      <td>37</td>\n",
       "      <td>881918</td>\n",
       "      <td>astra sports tourer 1.0a</td>\n",
       "      <td>opel</td>\n",
       "      <td>Stationwagon</td>\n",
       "      <td>1</td>\n",
       "      <td>Dealer</td>\n",
       "      <td>2020-02-18</td>\n",
       "      <td>2017-12-07</td>\n",
       "      <td>2017</td>\n",
       "      <td>64000.0</td>\n",
       "      <td>6900.0</td>\n",
       "      <td>392</td>\n",
       "      <td>46791.0</td>\n",
       "      <td>20616.0</td>\n",
       "      <td>5863.0</td>\n",
       "      <td>56800.0</td>\n",
       "    </tr>\n",
       "    <tr>\n",
       "      <td>38</td>\n",
       "      <td>871553</td>\n",
       "      <td>c class c200 cgi estate avantgarde</td>\n",
       "      <td>mercedes benz</td>\n",
       "      <td>Stationwagon</td>\n",
       "      <td>1</td>\n",
       "      <td>Dealer</td>\n",
       "      <td>2020-02-18</td>\n",
       "      <td>2015-06-23</td>\n",
       "      <td>2014</td>\n",
       "      <td>113000.0</td>\n",
       "      <td>14960.0</td>\n",
       "      <td>1202</td>\n",
       "      <td>68668.0</td>\n",
       "      <td>38344.0</td>\n",
       "      <td>35682.0</td>\n",
       "      <td>97800.0</td>\n",
       "    </tr>\n",
       "    <tr>\n",
       "      <td>39</td>\n",
       "      <td>887152</td>\n",
       "      <td>shuttle 1.5a g</td>\n",
       "      <td>honda</td>\n",
       "      <td>Stationwagon</td>\n",
       "      <td>1</td>\n",
       "      <td>Dealer</td>\n",
       "      <td>2020-02-18</td>\n",
       "      <td>2017-06-05</td>\n",
       "      <td>2016</td>\n",
       "      <td>82000.0</td>\n",
       "      <td>8060.0</td>\n",
       "      <td>682</td>\n",
       "      <td>52000.0</td>\n",
       "      <td>19387.0</td>\n",
       "      <td>9387.0</td>\n",
       "      <td>63500.0</td>\n",
       "    </tr>\n",
       "  </tbody>\n",
       "</table>\n",
       "</div>"
      ],
      "text/plain": [
       "    car_id                                model           make  vehicle_type  \\\n",
       "29  875725                   healey 3000 mk ii          austin        Others   \n",
       "36  868033                  shuttle hybrid 1.5a          honda  Stationwagon   \n",
       "37  881918             astra sports tourer 1.0a           opel  Stationwagon   \n",
       "38  871553   c class c200 cgi estate avantgarde  mercedes benz  Stationwagon   \n",
       "39  887152                       shuttle 1.5a g          honda  Stationwagon   \n",
       "\n",
       "    owner_count owner_type     posted   reg_date  man_f       mil      dep  \\\n",
       "29            1     Dealer 2019-12-21 2019-08-05   1964     700.0  30640.0   \n",
       "36            1     Dealer 2020-02-18 2018-10-04   2018   19000.0   8590.0   \n",
       "37            1     Dealer 2020-02-18 2017-12-07   2017   64000.0   6900.0   \n",
       "38            1     Dealer 2020-02-18 2015-06-23   2014  113000.0  14960.0   \n",
       "39            1     Dealer 2020-02-18 2017-06-05   2016   82000.0   8060.0   \n",
       "\n",
       "   road_tax      coe      omv      arf     price  \n",
       "29     280    3994.0  40374.0  48524.0  289999.0  \n",
       "36      nan  31001.0  20941.0  11318.0   79800.0  \n",
       "37     392   46791.0  20616.0   5863.0   56800.0  \n",
       "38    1202   68668.0  38344.0  35682.0   97800.0  \n",
       "39     682   52000.0  19387.0   9387.0   63500.0  "
      ]
     },
     "execution_count": 377,
     "metadata": {},
     "output_type": "execute_result"
    }
   ],
   "source": [
    "df.head()"
   ]
  },
  {
   "cell_type": "code",
   "execution_count": 378,
   "metadata": {
    "ExecuteTime": {
     "end_time": "2020-06-20T22:27:34.588661Z",
     "start_time": "2020-06-20T22:27:34.578686Z"
    },
    "scrolled": true
   },
   "outputs": [
    {
     "data": {
      "text/plain": [
       "car_id                  object\n",
       "model                   object\n",
       "make                    object\n",
       "vehicle_type            object\n",
       "owner_count              int32\n",
       "owner_type              object\n",
       "posted          datetime64[ns]\n",
       "reg_date        datetime64[ns]\n",
       "man_f                    int32\n",
       "mil                    float64\n",
       "dep                    float64\n",
       "road_tax                object\n",
       "coe                    float64\n",
       "omv                    float64\n",
       "arf                    float64\n",
       "price                  float64\n",
       "dtype: object"
      ]
     },
     "execution_count": 378,
     "metadata": {},
     "output_type": "execute_result"
    }
   ],
   "source": [
    "df.dtypes"
   ]
  },
  {
   "cell_type": "code",
   "execution_count": 380,
   "metadata": {
    "ExecuteTime": {
     "end_time": "2020-06-20T22:27:43.566506Z",
     "start_time": "2020-06-20T22:27:43.462506Z"
    }
   },
   "outputs": [
    {
     "data": {
      "text/plain": [
       "61"
      ]
     },
     "execution_count": 380,
     "metadata": {},
     "output_type": "execute_result"
    }
   ],
   "source": [
    "df['make'].nunique()"
   ]
  },
  {
   "cell_type": "markdown",
   "metadata": {},
   "source": [
    "### Missing values"
   ]
  },
  {
   "cell_type": "code",
   "execution_count": 382,
   "metadata": {
    "ExecuteTime": {
     "end_time": "2020-06-20T22:28:14.186873Z",
     "start_time": "2020-06-20T22:28:14.167871Z"
    }
   },
   "outputs": [
    {
     "data": {
      "text/plain": [
       "car_id          False\n",
       "model            True\n",
       "make             True\n",
       "vehicle_type    False\n",
       "owner_count     False\n",
       "owner_type      False\n",
       "posted          False\n",
       "reg_date        False\n",
       "man_f           False\n",
       "mil             False\n",
       "dep             False\n",
       "road_tax        False\n",
       "coe             False\n",
       "omv             False\n",
       "arf             False\n",
       "price           False\n",
       "dtype: bool"
      ]
     },
     "execution_count": 382,
     "metadata": {},
     "output_type": "execute_result"
    }
   ],
   "source": [
    "df.isna().any()"
   ]
  },
  {
   "cell_type": "markdown",
   "metadata": {},
   "source": [
    "There is no missing value in the dataframe."
   ]
  },
  {
   "cell_type": "markdown",
   "metadata": {},
   "source": [
    "Successful! There are 81 cities in Turkey."
   ]
  },
  {
   "cell_type": "code",
   "execution_count": 384,
   "metadata": {
    "ExecuteTime": {
     "end_time": "2020-06-20T22:29:18.266660Z",
     "start_time": "2020-06-20T22:29:17.616647Z"
    }
   },
   "outputs": [],
   "source": [
    "df.to_csv(r'C:\\Users\\d33ps3curity\\upwork\\dataset\\Predicting_used_car_prices\\sgcarmart_used_cars_cleaned.csv', index=None, header=True)"
   ]
  },
  {
   "cell_type": "markdown",
   "metadata": {},
   "source": [
    "# Exploratory Data Analysis"
   ]
  },
  {
   "cell_type": "markdown",
   "metadata": {},
   "source": [
    "### Price"
   ]
  },
  {
   "cell_type": "code",
   "execution_count": 385,
   "metadata": {
    "ExecuteTime": {
     "end_time": "2020-06-20T22:29:20.116010Z",
     "start_time": "2020-06-20T22:29:20.080014Z"
    }
   },
   "outputs": [
    {
     "data": {
      "text/plain": [
       "113034.57671601615"
      ]
     },
     "execution_count": 385,
     "metadata": {},
     "output_type": "execute_result"
    }
   ],
   "source": [
    "df.price.mean()"
   ]
  },
  {
   "cell_type": "code",
   "execution_count": 386,
   "metadata": {
    "ExecuteTime": {
     "end_time": "2020-06-20T22:29:22.190618Z",
     "start_time": "2020-06-20T22:29:22.129619Z"
    }
   },
   "outputs": [
    {
     "data": {
      "text/plain": [
       "79788.5"
      ]
     },
     "execution_count": 386,
     "metadata": {},
     "output_type": "execute_result"
    }
   ],
   "source": [
    "df.price.median()"
   ]
  },
  {
   "cell_type": "markdown",
   "metadata": {},
   "source": [
    "There is a big difference between mean and median which indicates outliers. So first need to check if there is ubnormal values."
   ]
  },
  {
   "cell_type": "code",
   "execution_count": 387,
   "metadata": {
    "ExecuteTime": {
     "end_time": "2020-06-20T22:29:26.780332Z",
     "start_time": "2020-06-20T22:29:26.772333Z"
    }
   },
   "outputs": [
    {
     "name": "stdout",
     "output_type": "stream",
     "text": [
      "1388800.0\n",
      "8000.0\n"
     ]
    }
   ],
   "source": [
    "print(df.price.max())\n",
    "print(df.price.min())"
   ]
  },
  {
   "cell_type": "code",
   "execution_count": 388,
   "metadata": {
    "ExecuteTime": {
     "end_time": "2020-06-20T22:29:31.117550Z",
     "start_time": "2020-06-20T22:29:31.092552Z"
    }
   },
   "outputs": [
    {
     "data": {
      "text/plain": [
       "416      1388800.0\n",
       "3220     1388800.0\n",
       "8823     1290000.0\n",
       "1229     1280000.0\n",
       "9724     1280000.0\n",
       "           ...    \n",
       "4370        8800.0\n",
       "13403       8800.0\n",
       "1512        8800.0\n",
       "12641       8500.0\n",
       "10537       8000.0\n",
       "Name: price, Length: 8916, dtype: float64"
      ]
     },
     "execution_count": 388,
     "metadata": {},
     "output_type": "execute_result"
    }
   ],
   "source": [
    "df.price.sort_values(ascending=False)"
   ]
  },
  {
   "cell_type": "code",
   "execution_count": 392,
   "metadata": {
    "ExecuteTime": {
     "end_time": "2020-06-20T22:31:06.478574Z",
     "start_time": "2020-06-20T22:31:06.466566Z"
    }
   },
   "outputs": [],
   "source": [
    "prices_list = list(df.price.sort_values(ascending=False))"
   ]
  },
  {
   "cell_type": "markdown",
   "metadata": {},
   "source": [
    "Highest value and the lowest four values seem ubnormal so I will remove these."
   ]
  },
  {
   "cell_type": "code",
   "execution_count": 393,
   "metadata": {
    "ExecuteTime": {
     "end_time": "2020-06-20T22:31:08.325761Z",
     "start_time": "2020-06-20T22:31:08.318772Z"
    }
   },
   "outputs": [
    {
     "data": {
      "text/plain": [
       "1388800.0"
      ]
     },
     "execution_count": 393,
     "metadata": {},
     "output_type": "execute_result"
    }
   ],
   "source": [
    "df['price'][416]"
   ]
  },
  {
   "cell_type": "code",
   "execution_count": 395,
   "metadata": {
    "ExecuteTime": {
     "end_time": "2020-06-20T22:31:23.365305Z",
     "start_time": "2020-06-20T22:31:23.356304Z"
    }
   },
   "outputs": [
    {
     "data": {
      "text/plain": [
       "[1388800.0,\n",
       " 1388800.0,\n",
       " 1290000.0,\n",
       " 1280000.0,\n",
       " 1280000.0,\n",
       " 1230000.0,\n",
       " 1230000.0,\n",
       " 1230000.0,\n",
       " 1230000.0,\n",
       " 1220000.0,\n",
       " 1220000.0,\n",
       " 1210000.0,\n",
       " 1210000.0,\n",
       " 1200000.0,\n",
       " 1180000.0,\n",
       " 1127800.0,\n",
       " 1127800.0,\n",
       " 1068800.0,\n",
       " 1068800.0,\n",
       " 1050000.0]"
      ]
     },
     "execution_count": 395,
     "metadata": {},
     "output_type": "execute_result"
    }
   ],
   "source": [
    "prices_list[:20]"
   ]
  },
  {
   "cell_type": "code",
   "execution_count": 396,
   "metadata": {
    "ExecuteTime": {
     "end_time": "2020-06-20T22:31:30.609243Z",
     "start_time": "2020-06-20T22:31:30.595279Z"
    }
   },
   "outputs": [
    {
     "data": {
      "text/plain": [
       "1388800.0"
      ]
     },
     "execution_count": 396,
     "metadata": {},
     "output_type": "execute_result"
    }
   ],
   "source": [
    "df.price.max()"
   ]
  },
  {
   "cell_type": "code",
   "execution_count": 398,
   "metadata": {
    "ExecuteTime": {
     "end_time": "2020-06-20T22:31:47.355744Z",
     "start_time": "2020-06-20T22:31:47.344750Z"
    }
   },
   "outputs": [
    {
     "name": "stdout",
     "output_type": "stream",
     "text": [
      "113034.57671601615\n",
      "79788.5\n"
     ]
    }
   ],
   "source": [
    "print(df.price.mean())\n",
    "print(df.price.median())"
   ]
  },
  {
   "cell_type": "code",
   "execution_count": 399,
   "metadata": {
    "ExecuteTime": {
     "end_time": "2020-06-20T22:31:51.362592Z",
     "start_time": "2020-06-20T22:31:51.304593Z"
    }
   },
   "outputs": [
    {
     "data": {
      "text/plain": [
       "0    63800.0\n",
       "dtype: float64"
      ]
     },
     "execution_count": 399,
     "metadata": {},
     "output_type": "execute_result"
    }
   ],
   "source": [
    "df.price.mode()"
   ]
  },
  {
   "cell_type": "code",
   "execution_count": 400,
   "metadata": {
    "ExecuteTime": {
     "end_time": "2020-06-20T22:31:53.764220Z",
     "start_time": "2020-06-20T22:31:53.756223Z"
    }
   },
   "outputs": [],
   "source": [
    "sns.set(style='darkgrid')"
   ]
  },
  {
   "cell_type": "code",
   "execution_count": 401,
   "metadata": {
    "ExecuteTime": {
     "end_time": "2020-06-20T22:31:56.258358Z",
     "start_time": "2020-06-20T22:31:55.674348Z"
    }
   },
   "outputs": [
    {
     "data": {
      "text/plain": [
       "<matplotlib.axes._subplots.AxesSubplot at 0x1a6f4630>"
      ]
     },
     "execution_count": 401,
     "metadata": {},
     "output_type": "execute_result"
    },
    {
     "data": {
      "image/png": "[encoded data removed]",
      "text/plain": [
       "<Figure size 576x360 with 1 Axes>"
      ]
     },
     "metadata": {},
     "output_type": "display_data"
    }
   ],
   "source": [
    "plt.figure(figsize=(8,5))\n",
    "sns.boxplot(y='price', data=df, width=0.5)"
   ]
  },
  {
   "cell_type": "code",
   "execution_count": 402,
   "metadata": {
    "ExecuteTime": {
     "end_time": "2020-06-20T22:32:03.276552Z",
     "start_time": "2020-06-20T22:32:02.373539Z"
    }
   },
   "outputs": [
    {
     "data": {
      "text/plain": [
       "Text(0.5, 1.0, 'Frequency Distribution Plot of Prices')"
      ]
     },
     "execution_count": 402,
     "metadata": {},
     "output_type": "execute_result"
    },
    {
     "data": {
      "image/png": "[encoded data removed]",
      "text/plain": [
       "<Figure size 720x432 with 1 Axes>"
      ]
     },
     "metadata": {},
     "output_type": "display_data"
    }
   ],
   "source": [
    "x = df.price\n",
    "plt.figure(figsize=(10,6))\n",
    "sns.distplot(x).set_title('Frequency Distribution Plot of Prices')"
   ]
  },
  {
   "cell_type": "markdown",
   "metadata": {},
   "source": [
    "The graphs above show the frequency distribution of prices. It is slightly right skewed which means there are some outliers with very high prices."
   ]
  },
  {
   "cell_type": "markdown",
   "metadata": {},
   "source": [
    "## Date"
   ]
  },
  {
   "cell_type": "markdown",
   "metadata": {},
   "source": [
    "I don't think date by itself has an effect on the price but waiting periof of the ad on website might have some effect. Longer waiting time might motivate owner to reduce the price. So I will add a columnt indicating the number of days ad has been on the website. Data was scraped on 18.01.2020."
   ]
  },
  {
   "cell_type": "code",
   "execution_count": 403,
   "metadata": {
    "ExecuteTime": {
     "end_time": "2020-06-20T22:34:12.877757Z",
     "start_time": "2020-06-20T22:34:12.866768Z"
    }
   },
   "outputs": [],
   "source": [
    "df['ad_duration'] = pd.to_datetime('2020-06-20') - df['posted']"
   ]
  },
  {
   "cell_type": "code",
   "execution_count": 404,
   "metadata": {
    "ExecuteTime": {
     "end_time": "2020-06-20T22:34:14.377559Z",
     "start_time": "2020-06-20T22:34:14.333575Z"
    }
   },
   "outputs": [
    {
     "data": {
      "text/html": [
       "<div>\n",
       "<style scoped>\n",
       "    .dataframe tbody tr th:only-of-type {\n",
       "        vertical-align: middle;\n",
       "    }\n",
       "\n",
       "    .dataframe tbody tr th {\n",
       "        vertical-align: top;\n",
       "    }\n",
       "\n",
       "    .dataframe thead th {\n",
       "        text-align: right;\n",
       "    }\n",
       "</style>\n",
       "<table border=\"1\" class=\"dataframe\">\n",
       "  <thead>\n",
       "    <tr style=\"text-align: right;\">\n",
       "      <th></th>\n",
       "      <th>car_id</th>\n",
       "      <th>model</th>\n",
       "      <th>make</th>\n",
       "      <th>vehicle_type</th>\n",
       "      <th>owner_count</th>\n",
       "      <th>owner_type</th>\n",
       "      <th>posted</th>\n",
       "      <th>reg_date</th>\n",
       "      <th>man_f</th>\n",
       "      <th>mil</th>\n",
       "      <th>dep</th>\n",
       "      <th>road_tax</th>\n",
       "      <th>coe</th>\n",
       "      <th>omv</th>\n",
       "      <th>arf</th>\n",
       "      <th>price</th>\n",
       "      <th>ad_duration</th>\n",
       "    </tr>\n",
       "  </thead>\n",
       "  <tbody>\n",
       "    <tr>\n",
       "      <td>29</td>\n",
       "      <td>875725</td>\n",
       "      <td>healey 3000 mk ii</td>\n",
       "      <td>austin</td>\n",
       "      <td>Others</td>\n",
       "      <td>1</td>\n",
       "      <td>Dealer</td>\n",
       "      <td>2019-12-21</td>\n",
       "      <td>2019-08-05</td>\n",
       "      <td>1964</td>\n",
       "      <td>700.0</td>\n",
       "      <td>30640.0</td>\n",
       "      <td>280</td>\n",
       "      <td>3994.0</td>\n",
       "      <td>40374.0</td>\n",
       "      <td>48524.0</td>\n",
       "      <td>289999.0</td>\n",
       "      <td>182 days</td>\n",
       "    </tr>\n",
       "    <tr>\n",
       "      <td>36</td>\n",
       "      <td>868033</td>\n",
       "      <td>shuttle hybrid 1.5a</td>\n",
       "      <td>honda</td>\n",
       "      <td>Stationwagon</td>\n",
       "      <td>1</td>\n",
       "      <td>Dealer</td>\n",
       "      <td>2020-02-18</td>\n",
       "      <td>2018-10-04</td>\n",
       "      <td>2018</td>\n",
       "      <td>19000.0</td>\n",
       "      <td>8590.0</td>\n",
       "      <td>nan</td>\n",
       "      <td>31001.0</td>\n",
       "      <td>20941.0</td>\n",
       "      <td>11318.0</td>\n",
       "      <td>79800.0</td>\n",
       "      <td>123 days</td>\n",
       "    </tr>\n",
       "    <tr>\n",
       "      <td>37</td>\n",
       "      <td>881918</td>\n",
       "      <td>astra sports tourer 1.0a</td>\n",
       "      <td>opel</td>\n",
       "      <td>Stationwagon</td>\n",
       "      <td>1</td>\n",
       "      <td>Dealer</td>\n",
       "      <td>2020-02-18</td>\n",
       "      <td>2017-12-07</td>\n",
       "      <td>2017</td>\n",
       "      <td>64000.0</td>\n",
       "      <td>6900.0</td>\n",
       "      <td>392</td>\n",
       "      <td>46791.0</td>\n",
       "      <td>20616.0</td>\n",
       "      <td>5863.0</td>\n",
       "      <td>56800.0</td>\n",
       "      <td>123 days</td>\n",
       "    </tr>\n",
       "    <tr>\n",
       "      <td>38</td>\n",
       "      <td>871553</td>\n",
       "      <td>c class c200 cgi estate avantgarde</td>\n",
       "      <td>mercedes benz</td>\n",
       "      <td>Stationwagon</td>\n",
       "      <td>1</td>\n",
       "      <td>Dealer</td>\n",
       "      <td>2020-02-18</td>\n",
       "      <td>2015-06-23</td>\n",
       "      <td>2014</td>\n",
       "      <td>113000.0</td>\n",
       "      <td>14960.0</td>\n",
       "      <td>1202</td>\n",
       "      <td>68668.0</td>\n",
       "      <td>38344.0</td>\n",
       "      <td>35682.0</td>\n",
       "      <td>97800.0</td>\n",
       "      <td>123 days</td>\n",
       "    </tr>\n",
       "    <tr>\n",
       "      <td>39</td>\n",
       "      <td>887152</td>\n",
       "      <td>shuttle 1.5a g</td>\n",
       "      <td>honda</td>\n",
       "      <td>Stationwagon</td>\n",
       "      <td>1</td>\n",
       "      <td>Dealer</td>\n",
       "      <td>2020-02-18</td>\n",
       "      <td>2017-06-05</td>\n",
       "      <td>2016</td>\n",
       "      <td>82000.0</td>\n",
       "      <td>8060.0</td>\n",
       "      <td>682</td>\n",
       "      <td>52000.0</td>\n",
       "      <td>19387.0</td>\n",
       "      <td>9387.0</td>\n",
       "      <td>63500.0</td>\n",
       "      <td>123 days</td>\n",
       "    </tr>\n",
       "  </tbody>\n",
       "</table>\n",
       "</div>"
      ],
      "text/plain": [
       "    car_id                                model           make  vehicle_type  \\\n",
       "29  875725                   healey 3000 mk ii          austin        Others   \n",
       "36  868033                  shuttle hybrid 1.5a          honda  Stationwagon   \n",
       "37  881918             astra sports tourer 1.0a           opel  Stationwagon   \n",
       "38  871553   c class c200 cgi estate avantgarde  mercedes benz  Stationwagon   \n",
       "39  887152                       shuttle 1.5a g          honda  Stationwagon   \n",
       "\n",
       "    owner_count owner_type     posted   reg_date  man_f       mil      dep  \\\n",
       "29            1     Dealer 2019-12-21 2019-08-05   1964     700.0  30640.0   \n",
       "36            1     Dealer 2020-02-18 2018-10-04   2018   19000.0   8590.0   \n",
       "37            1     Dealer 2020-02-18 2017-12-07   2017   64000.0   6900.0   \n",
       "38            1     Dealer 2020-02-18 2015-06-23   2014  113000.0  14960.0   \n",
       "39            1     Dealer 2020-02-18 2017-06-05   2016   82000.0   8060.0   \n",
       "\n",
       "   road_tax      coe      omv      arf     price ad_duration  \n",
       "29     280    3994.0  40374.0  48524.0  289999.0    182 days  \n",
       "36      nan  31001.0  20941.0  11318.0   79800.0    123 days  \n",
       "37     392   46791.0  20616.0   5863.0   56800.0    123 days  \n",
       "38    1202   68668.0  38344.0  35682.0   97800.0    123 days  \n",
       "39     682   52000.0  19387.0   9387.0   63500.0    123 days  "
      ]
     },
     "execution_count": 404,
     "metadata": {},
     "output_type": "execute_result"
    }
   ],
   "source": [
    "df.head()"
   ]
  },
  {
   "cell_type": "code",
   "execution_count": 405,
   "metadata": {
    "ExecuteTime": {
     "end_time": "2020-06-20T22:34:25.567675Z",
     "start_time": "2020-06-20T22:34:25.559673Z"
    }
   },
   "outputs": [
    {
     "data": {
      "text/plain": [
       "False"
      ]
     },
     "execution_count": 405,
     "metadata": {},
     "output_type": "execute_result"
    }
   ],
   "source": [
    "df['ad_duration'].isna().any()"
   ]
  },
  {
   "cell_type": "code",
   "execution_count": 406,
   "metadata": {
    "ExecuteTime": {
     "end_time": "2020-06-20T22:34:26.822533Z",
     "start_time": "2020-06-20T22:34:26.536551Z"
    }
   },
   "outputs": [],
   "source": [
    "df.ad_duration = df.ad_duration.astype('str')"
   ]
  },
  {
   "cell_type": "code",
   "execution_count": 407,
   "metadata": {
    "ExecuteTime": {
     "end_time": "2020-06-20T22:34:28.659014Z",
     "start_time": "2020-06-20T22:34:28.652029Z"
    }
   },
   "outputs": [
    {
     "data": {
      "text/plain": [
       "dtype('O')"
      ]
     },
     "execution_count": 407,
     "metadata": {},
     "output_type": "execute_result"
    }
   ],
   "source": [
    "df.ad_duration.dtype"
   ]
  },
  {
   "cell_type": "code",
   "execution_count": 408,
   "metadata": {
    "ExecuteTime": {
     "end_time": "2020-06-20T22:34:29.464399Z",
     "start_time": "2020-06-20T22:34:29.445378Z"
    }
   },
   "outputs": [],
   "source": [
    "df.ad_duration = df.ad_duration.replace('days','',regex=True)"
   ]
  },
  {
   "cell_type": "code",
   "execution_count": 409,
   "metadata": {
    "ExecuteTime": {
     "end_time": "2020-06-20T22:34:31.644962Z",
     "start_time": "2020-06-20T22:34:31.604938Z"
    }
   },
   "outputs": [
    {
     "data": {
      "text/html": [
       "<div>\n",
       "<style scoped>\n",
       "    .dataframe tbody tr th:only-of-type {\n",
       "        vertical-align: middle;\n",
       "    }\n",
       "\n",
       "    .dataframe tbody tr th {\n",
       "        vertical-align: top;\n",
       "    }\n",
       "\n",
       "    .dataframe thead th {\n",
       "        text-align: right;\n",
       "    }\n",
       "</style>\n",
       "<table border=\"1\" class=\"dataframe\">\n",
       "  <thead>\n",
       "    <tr style=\"text-align: right;\">\n",
       "      <th></th>\n",
       "      <th>car_id</th>\n",
       "      <th>model</th>\n",
       "      <th>make</th>\n",
       "      <th>vehicle_type</th>\n",
       "      <th>owner_count</th>\n",
       "      <th>owner_type</th>\n",
       "      <th>posted</th>\n",
       "      <th>reg_date</th>\n",
       "      <th>man_f</th>\n",
       "      <th>mil</th>\n",
       "      <th>dep</th>\n",
       "      <th>road_tax</th>\n",
       "      <th>coe</th>\n",
       "      <th>omv</th>\n",
       "      <th>arf</th>\n",
       "      <th>price</th>\n",
       "      <th>ad_duration</th>\n",
       "    </tr>\n",
       "  </thead>\n",
       "  <tbody>\n",
       "    <tr>\n",
       "      <td>29</td>\n",
       "      <td>875725</td>\n",
       "      <td>healey 3000 mk ii</td>\n",
       "      <td>austin</td>\n",
       "      <td>Others</td>\n",
       "      <td>1</td>\n",
       "      <td>Dealer</td>\n",
       "      <td>2019-12-21</td>\n",
       "      <td>2019-08-05</td>\n",
       "      <td>1964</td>\n",
       "      <td>700.0</td>\n",
       "      <td>30640.0</td>\n",
       "      <td>280</td>\n",
       "      <td>3994.0</td>\n",
       "      <td>40374.0</td>\n",
       "      <td>48524.0</td>\n",
       "      <td>289999.0</td>\n",
       "      <td>182  00:00:00.000000000</td>\n",
       "    </tr>\n",
       "    <tr>\n",
       "      <td>36</td>\n",
       "      <td>868033</td>\n",
       "      <td>shuttle hybrid 1.5a</td>\n",
       "      <td>honda</td>\n",
       "      <td>Stationwagon</td>\n",
       "      <td>1</td>\n",
       "      <td>Dealer</td>\n",
       "      <td>2020-02-18</td>\n",
       "      <td>2018-10-04</td>\n",
       "      <td>2018</td>\n",
       "      <td>19000.0</td>\n",
       "      <td>8590.0</td>\n",
       "      <td>nan</td>\n",
       "      <td>31001.0</td>\n",
       "      <td>20941.0</td>\n",
       "      <td>11318.0</td>\n",
       "      <td>79800.0</td>\n",
       "      <td>123  00:00:00.000000000</td>\n",
       "    </tr>\n",
       "    <tr>\n",
       "      <td>37</td>\n",
       "      <td>881918</td>\n",
       "      <td>astra sports tourer 1.0a</td>\n",
       "      <td>opel</td>\n",
       "      <td>Stationwagon</td>\n",
       "      <td>1</td>\n",
       "      <td>Dealer</td>\n",
       "      <td>2020-02-18</td>\n",
       "      <td>2017-12-07</td>\n",
       "      <td>2017</td>\n",
       "      <td>64000.0</td>\n",
       "      <td>6900.0</td>\n",
       "      <td>392</td>\n",
       "      <td>46791.0</td>\n",
       "      <td>20616.0</td>\n",
       "      <td>5863.0</td>\n",
       "      <td>56800.0</td>\n",
       "      <td>123  00:00:00.000000000</td>\n",
       "    </tr>\n",
       "    <tr>\n",
       "      <td>38</td>\n",
       "      <td>871553</td>\n",
       "      <td>c class c200 cgi estate avantgarde</td>\n",
       "      <td>mercedes benz</td>\n",
       "      <td>Stationwagon</td>\n",
       "      <td>1</td>\n",
       "      <td>Dealer</td>\n",
       "      <td>2020-02-18</td>\n",
       "      <td>2015-06-23</td>\n",
       "      <td>2014</td>\n",
       "      <td>113000.0</td>\n",
       "      <td>14960.0</td>\n",
       "      <td>1202</td>\n",
       "      <td>68668.0</td>\n",
       "      <td>38344.0</td>\n",
       "      <td>35682.0</td>\n",
       "      <td>97800.0</td>\n",
       "      <td>123  00:00:00.000000000</td>\n",
       "    </tr>\n",
       "    <tr>\n",
       "      <td>39</td>\n",
       "      <td>887152</td>\n",
       "      <td>shuttle 1.5a g</td>\n",
       "      <td>honda</td>\n",
       "      <td>Stationwagon</td>\n",
       "      <td>1</td>\n",
       "      <td>Dealer</td>\n",
       "      <td>2020-02-18</td>\n",
       "      <td>2017-06-05</td>\n",
       "      <td>2016</td>\n",
       "      <td>82000.0</td>\n",
       "      <td>8060.0</td>\n",
       "      <td>682</td>\n",
       "      <td>52000.0</td>\n",
       "      <td>19387.0</td>\n",
       "      <td>9387.0</td>\n",
       "      <td>63500.0</td>\n",
       "      <td>123  00:00:00.000000000</td>\n",
       "    </tr>\n",
       "  </tbody>\n",
       "</table>\n",
       "</div>"
      ],
      "text/plain": [
       "    car_id                                model           make  vehicle_type  \\\n",
       "29  875725                   healey 3000 mk ii          austin        Others   \n",
       "36  868033                  shuttle hybrid 1.5a          honda  Stationwagon   \n",
       "37  881918             astra sports tourer 1.0a           opel  Stationwagon   \n",
       "38  871553   c class c200 cgi estate avantgarde  mercedes benz  Stationwagon   \n",
       "39  887152                       shuttle 1.5a g          honda  Stationwagon   \n",
       "\n",
       "    owner_count owner_type     posted   reg_date  man_f       mil      dep  \\\n",
       "29            1     Dealer 2019-12-21 2019-08-05   1964     700.0  30640.0   \n",
       "36            1     Dealer 2020-02-18 2018-10-04   2018   19000.0   8590.0   \n",
       "37            1     Dealer 2020-02-18 2017-12-07   2017   64000.0   6900.0   \n",
       "38            1     Dealer 2020-02-18 2015-06-23   2014  113000.0  14960.0   \n",
       "39            1     Dealer 2020-02-18 2017-06-05   2016   82000.0   8060.0   \n",
       "\n",
       "   road_tax      coe      omv      arf     price              ad_duration  \n",
       "29     280    3994.0  40374.0  48524.0  289999.0  182  00:00:00.000000000  \n",
       "36      nan  31001.0  20941.0  11318.0   79800.0  123  00:00:00.000000000  \n",
       "37     392   46791.0  20616.0   5863.0   56800.0  123  00:00:00.000000000  \n",
       "38    1202   68668.0  38344.0  35682.0   97800.0  123  00:00:00.000000000  \n",
       "39     682   52000.0  19387.0   9387.0   63500.0  123  00:00:00.000000000  "
      ]
     },
     "execution_count": 409,
     "metadata": {},
     "output_type": "execute_result"
    }
   ],
   "source": [
    "df.head()"
   ]
  },
  {
   "cell_type": "code",
   "execution_count": 415,
   "metadata": {
    "ExecuteTime": {
     "end_time": "2020-06-20T22:35:44.389184Z",
     "start_time": "2020-06-20T22:35:44.341163Z"
    }
   },
   "outputs": [],
   "source": [
    "df.ad_duration = df.ad_duration.str.split(' ', expand=True)"
   ]
  },
  {
   "cell_type": "code",
   "execution_count": 416,
   "metadata": {
    "ExecuteTime": {
     "end_time": "2020-06-20T22:35:45.579432Z",
     "start_time": "2020-06-20T22:35:45.542430Z"
    }
   },
   "outputs": [
    {
     "data": {
      "text/html": [
       "<div>\n",
       "<style scoped>\n",
       "    .dataframe tbody tr th:only-of-type {\n",
       "        vertical-align: middle;\n",
       "    }\n",
       "\n",
       "    .dataframe tbody tr th {\n",
       "        vertical-align: top;\n",
       "    }\n",
       "\n",
       "    .dataframe thead th {\n",
       "        text-align: right;\n",
       "    }\n",
       "</style>\n",
       "<table border=\"1\" class=\"dataframe\">\n",
       "  <thead>\n",
       "    <tr style=\"text-align: right;\">\n",
       "      <th></th>\n",
       "      <th>car_id</th>\n",
       "      <th>model</th>\n",
       "      <th>make</th>\n",
       "      <th>vehicle_type</th>\n",
       "      <th>owner_count</th>\n",
       "      <th>owner_type</th>\n",
       "      <th>posted</th>\n",
       "      <th>reg_date</th>\n",
       "      <th>man_f</th>\n",
       "      <th>mil</th>\n",
       "      <th>dep</th>\n",
       "      <th>road_tax</th>\n",
       "      <th>coe</th>\n",
       "      <th>omv</th>\n",
       "      <th>arf</th>\n",
       "      <th>price</th>\n",
       "      <th>ad_duration</th>\n",
       "    </tr>\n",
       "  </thead>\n",
       "  <tbody>\n",
       "    <tr>\n",
       "      <td>29</td>\n",
       "      <td>875725</td>\n",
       "      <td>healey 3000 mk ii</td>\n",
       "      <td>austin</td>\n",
       "      <td>Others</td>\n",
       "      <td>1</td>\n",
       "      <td>Dealer</td>\n",
       "      <td>2019-12-21</td>\n",
       "      <td>2019-08-05</td>\n",
       "      <td>1964</td>\n",
       "      <td>700.0</td>\n",
       "      <td>30640.0</td>\n",
       "      <td>280</td>\n",
       "      <td>3994.0</td>\n",
       "      <td>40374.0</td>\n",
       "      <td>48524.0</td>\n",
       "      <td>289999.0</td>\n",
       "      <td>182</td>\n",
       "    </tr>\n",
       "    <tr>\n",
       "      <td>36</td>\n",
       "      <td>868033</td>\n",
       "      <td>shuttle hybrid 1.5a</td>\n",
       "      <td>honda</td>\n",
       "      <td>Stationwagon</td>\n",
       "      <td>1</td>\n",
       "      <td>Dealer</td>\n",
       "      <td>2020-02-18</td>\n",
       "      <td>2018-10-04</td>\n",
       "      <td>2018</td>\n",
       "      <td>19000.0</td>\n",
       "      <td>8590.0</td>\n",
       "      <td>nan</td>\n",
       "      <td>31001.0</td>\n",
       "      <td>20941.0</td>\n",
       "      <td>11318.0</td>\n",
       "      <td>79800.0</td>\n",
       "      <td>123</td>\n",
       "    </tr>\n",
       "    <tr>\n",
       "      <td>37</td>\n",
       "      <td>881918</td>\n",
       "      <td>astra sports tourer 1.0a</td>\n",
       "      <td>opel</td>\n",
       "      <td>Stationwagon</td>\n",
       "      <td>1</td>\n",
       "      <td>Dealer</td>\n",
       "      <td>2020-02-18</td>\n",
       "      <td>2017-12-07</td>\n",
       "      <td>2017</td>\n",
       "      <td>64000.0</td>\n",
       "      <td>6900.0</td>\n",
       "      <td>392</td>\n",
       "      <td>46791.0</td>\n",
       "      <td>20616.0</td>\n",
       "      <td>5863.0</td>\n",
       "      <td>56800.0</td>\n",
       "      <td>123</td>\n",
       "    </tr>\n",
       "    <tr>\n",
       "      <td>38</td>\n",
       "      <td>871553</td>\n",
       "      <td>c class c200 cgi estate avantgarde</td>\n",
       "      <td>mercedes benz</td>\n",
       "      <td>Stationwagon</td>\n",
       "      <td>1</td>\n",
       "      <td>Dealer</td>\n",
       "      <td>2020-02-18</td>\n",
       "      <td>2015-06-23</td>\n",
       "      <td>2014</td>\n",
       "      <td>113000.0</td>\n",
       "      <td>14960.0</td>\n",
       "      <td>1202</td>\n",
       "      <td>68668.0</td>\n",
       "      <td>38344.0</td>\n",
       "      <td>35682.0</td>\n",
       "      <td>97800.0</td>\n",
       "      <td>123</td>\n",
       "    </tr>\n",
       "    <tr>\n",
       "      <td>39</td>\n",
       "      <td>887152</td>\n",
       "      <td>shuttle 1.5a g</td>\n",
       "      <td>honda</td>\n",
       "      <td>Stationwagon</td>\n",
       "      <td>1</td>\n",
       "      <td>Dealer</td>\n",
       "      <td>2020-02-18</td>\n",
       "      <td>2017-06-05</td>\n",
       "      <td>2016</td>\n",
       "      <td>82000.0</td>\n",
       "      <td>8060.0</td>\n",
       "      <td>682</td>\n",
       "      <td>52000.0</td>\n",
       "      <td>19387.0</td>\n",
       "      <td>9387.0</td>\n",
       "      <td>63500.0</td>\n",
       "      <td>123</td>\n",
       "    </tr>\n",
       "  </tbody>\n",
       "</table>\n",
       "</div>"
      ],
      "text/plain": [
       "    car_id                                model           make  vehicle_type  \\\n",
       "29  875725                   healey 3000 mk ii          austin        Others   \n",
       "36  868033                  shuttle hybrid 1.5a          honda  Stationwagon   \n",
       "37  881918             astra sports tourer 1.0a           opel  Stationwagon   \n",
       "38  871553   c class c200 cgi estate avantgarde  mercedes benz  Stationwagon   \n",
       "39  887152                       shuttle 1.5a g          honda  Stationwagon   \n",
       "\n",
       "    owner_count owner_type     posted   reg_date  man_f       mil      dep  \\\n",
       "29            1     Dealer 2019-12-21 2019-08-05   1964     700.0  30640.0   \n",
       "36            1     Dealer 2020-02-18 2018-10-04   2018   19000.0   8590.0   \n",
       "37            1     Dealer 2020-02-18 2017-12-07   2017   64000.0   6900.0   \n",
       "38            1     Dealer 2020-02-18 2015-06-23   2014  113000.0  14960.0   \n",
       "39            1     Dealer 2020-02-18 2017-06-05   2016   82000.0   8060.0   \n",
       "\n",
       "   road_tax      coe      omv      arf     price ad_duration  \n",
       "29     280    3994.0  40374.0  48524.0  289999.0         182  \n",
       "36      nan  31001.0  20941.0  11318.0   79800.0         123  \n",
       "37     392   46791.0  20616.0   5863.0   56800.0         123  \n",
       "38    1202   68668.0  38344.0  35682.0   97800.0         123  \n",
       "39     682   52000.0  19387.0   9387.0   63500.0         123  "
      ]
     },
     "execution_count": 416,
     "metadata": {},
     "output_type": "execute_result"
    }
   ],
   "source": [
    "df.head()"
   ]
  },
  {
   "cell_type": "code",
   "execution_count": 417,
   "metadata": {
    "ExecuteTime": {
     "end_time": "2020-06-20T22:35:51.596330Z",
     "start_time": "2020-06-20T22:35:51.587335Z"
    }
   },
   "outputs": [],
   "source": [
    "df.ad_duration = df.ad_duration.astype('int64')"
   ]
  },
  {
   "cell_type": "code",
   "execution_count": 418,
   "metadata": {
    "ExecuteTime": {
     "end_time": "2020-06-20T22:35:52.254828Z",
     "start_time": "2020-06-20T22:35:52.243830Z"
    }
   },
   "outputs": [
    {
     "name": "stdout",
     "output_type": "stream",
     "text": [
      "133.14468371467026\n",
      "131.0\n"
     ]
    }
   ],
   "source": [
    "print(df.ad_duration.mean())\n",
    "print(df.ad_duration.median())"
   ]
  },
  {
   "cell_type": "code",
   "execution_count": 419,
   "metadata": {
    "ExecuteTime": {
     "end_time": "2020-06-20T22:35:56.724114Z",
     "start_time": "2020-06-20T22:35:55.807096Z"
    }
   },
   "outputs": [
    {
     "data": {
      "text/plain": [
       "Text(0.5, 1.0, 'Frequency Distribution Plot of Ad Duration')"
      ]
     },
     "execution_count": 419,
     "metadata": {},
     "output_type": "execute_result"
    },
    {
     "data": {
      "image/png": "[encoded data removed]",
      "text/plain": [
       "<Figure size 720x432 with 1 Axes>"
      ]
     },
     "metadata": {},
     "output_type": "display_data"
    }
   ],
   "source": [
    "d = df.ad_duration\n",
    "plt.figure(figsize=(10,6))\n",
    "sns.distplot(d).set_title('Frequency Distribution Plot of Ad Duration')"
   ]
  },
  {
   "cell_type": "code",
   "execution_count": 420,
   "metadata": {
    "ExecuteTime": {
     "end_time": "2020-06-20T22:36:07.125774Z",
     "start_time": "2020-06-20T22:36:07.116778Z"
    }
   },
   "outputs": [],
   "source": [
    "e = d[d<50]"
   ]
  },
  {
   "cell_type": "code",
   "execution_count": 421,
   "metadata": {
    "ExecuteTime": {
     "end_time": "2020-06-20T22:36:09.532544Z",
     "start_time": "2020-06-20T22:36:08.915553Z"
    }
   },
   "outputs": [
    {
     "data": {
      "text/plain": [
       "Text(0.5, 1.0, 'Frequency Distribution Plot of Ad Duration (<50)')"
      ]
     },
     "execution_count": 421,
     "metadata": {},
     "output_type": "execute_result"
    },
    {
     "data": {
      "image/png": "[encoded data removed]",
      "text/plain": [
       "<Figure size 720x432 with 1 Axes>"
      ]
     },
     "metadata": {},
     "output_type": "display_data"
    }
   ],
   "source": [
    "plt.figure(figsize=(10,6))\n",
    "sns.distplot(e).set_title('Frequency Distribution Plot of Ad Duration (<50)')"
   ]
  },
  {
   "cell_type": "code",
   "execution_count": 422,
   "metadata": {
    "ExecuteTime": {
     "end_time": "2020-06-20T22:36:15.257286Z",
     "start_time": "2020-06-20T22:36:14.957298Z"
    }
   },
   "outputs": [
    {
     "data": {
      "text/plain": [
       "<matplotlib.axes._subplots.AxesSubplot at 0x1a7d3150>"
      ]
     },
     "execution_count": 422,
     "metadata": {},
     "output_type": "execute_result"
    },
    {
     "data": {
      "image/png": "[encoded data removed]",
      "text/plain": [
       "<Figure size 576x360 with 1 Axes>"
      ]
     },
     "metadata": {},
     "output_type": "display_data"
    }
   ],
   "source": [
    "plt.figure(figsize=(8,5))\n",
    "sns.boxplot(y='ad_duration', data=df, width=0.5)"
   ]
  },
  {
   "cell_type": "markdown",
   "metadata": {},
   "source": [
    "## Year"
   ]
  },
  {
   "cell_type": "code",
   "execution_count": 424,
   "metadata": {
    "ExecuteTime": {
     "end_time": "2020-06-20T22:37:02.405503Z",
     "start_time": "2020-06-20T22:37:02.391485Z"
    }
   },
   "outputs": [
    {
     "data": {
      "text/plain": [
       "2016    1462\n",
       "2015    1118\n",
       "2018    1043\n",
       "2017    1026\n",
       "2014     592\n",
       "2009     587\n",
       "2008     569\n",
       "2019     527\n",
       "2011     448\n",
       "2012     381\n",
       "Name: man_f, dtype: int64"
      ]
     },
     "execution_count": 424,
     "metadata": {},
     "output_type": "execute_result"
    }
   ],
   "source": [
    "df.man_f.value_counts()[:10]"
   ]
  },
  {
   "cell_type": "markdown",
   "metadata": {},
   "source": [
    "The age of the car definitely effects the prices. However, instead of the model year of the car, it makes more sense to use is as age. So I will substiture 'year' column from current year."
   ]
  },
  {
   "cell_type": "code",
   "execution_count": 425,
   "metadata": {
    "ExecuteTime": {
     "end_time": "2020-06-20T22:37:14.224415Z",
     "start_time": "2020-06-20T22:37:14.146395Z"
    }
   },
   "outputs": [],
   "source": [
    "df['age'] = 2020 - df['man_f']"
   ]
  },
  {
   "cell_type": "code",
   "execution_count": 426,
   "metadata": {
    "ExecuteTime": {
     "end_time": "2020-06-20T22:37:15.575546Z",
     "start_time": "2020-06-20T22:37:15.535546Z"
    },
    "scrolled": true
   },
   "outputs": [
    {
     "data": {
      "text/html": [
       "<div>\n",
       "<style scoped>\n",
       "    .dataframe tbody tr th:only-of-type {\n",
       "        vertical-align: middle;\n",
       "    }\n",
       "\n",
       "    .dataframe tbody tr th {\n",
       "        vertical-align: top;\n",
       "    }\n",
       "\n",
       "    .dataframe thead th {\n",
       "        text-align: right;\n",
       "    }\n",
       "</style>\n",
       "<table border=\"1\" class=\"dataframe\">\n",
       "  <thead>\n",
       "    <tr style=\"text-align: right;\">\n",
       "      <th></th>\n",
       "      <th>car_id</th>\n",
       "      <th>model</th>\n",
       "      <th>make</th>\n",
       "      <th>vehicle_type</th>\n",
       "      <th>owner_count</th>\n",
       "      <th>owner_type</th>\n",
       "      <th>posted</th>\n",
       "      <th>reg_date</th>\n",
       "      <th>man_f</th>\n",
       "      <th>mil</th>\n",
       "      <th>dep</th>\n",
       "      <th>road_tax</th>\n",
       "      <th>coe</th>\n",
       "      <th>omv</th>\n",
       "      <th>arf</th>\n",
       "      <th>price</th>\n",
       "      <th>ad_duration</th>\n",
       "      <th>age</th>\n",
       "    </tr>\n",
       "  </thead>\n",
       "  <tbody>\n",
       "    <tr>\n",
       "      <td>29</td>\n",
       "      <td>875725</td>\n",
       "      <td>healey 3000 mk ii</td>\n",
       "      <td>austin</td>\n",
       "      <td>Others</td>\n",
       "      <td>1</td>\n",
       "      <td>Dealer</td>\n",
       "      <td>2019-12-21</td>\n",
       "      <td>2019-08-05</td>\n",
       "      <td>1964</td>\n",
       "      <td>700.0</td>\n",
       "      <td>30640.0</td>\n",
       "      <td>280</td>\n",
       "      <td>3994.0</td>\n",
       "      <td>40374.0</td>\n",
       "      <td>48524.0</td>\n",
       "      <td>289999.0</td>\n",
       "      <td>182</td>\n",
       "      <td>56</td>\n",
       "    </tr>\n",
       "    <tr>\n",
       "      <td>36</td>\n",
       "      <td>868033</td>\n",
       "      <td>shuttle hybrid 1.5a</td>\n",
       "      <td>honda</td>\n",
       "      <td>Stationwagon</td>\n",
       "      <td>1</td>\n",
       "      <td>Dealer</td>\n",
       "      <td>2020-02-18</td>\n",
       "      <td>2018-10-04</td>\n",
       "      <td>2018</td>\n",
       "      <td>19000.0</td>\n",
       "      <td>8590.0</td>\n",
       "      <td>nan</td>\n",
       "      <td>31001.0</td>\n",
       "      <td>20941.0</td>\n",
       "      <td>11318.0</td>\n",
       "      <td>79800.0</td>\n",
       "      <td>123</td>\n",
       "      <td>2</td>\n",
       "    </tr>\n",
       "    <tr>\n",
       "      <td>37</td>\n",
       "      <td>881918</td>\n",
       "      <td>astra sports tourer 1.0a</td>\n",
       "      <td>opel</td>\n",
       "      <td>Stationwagon</td>\n",
       "      <td>1</td>\n",
       "      <td>Dealer</td>\n",
       "      <td>2020-02-18</td>\n",
       "      <td>2017-12-07</td>\n",
       "      <td>2017</td>\n",
       "      <td>64000.0</td>\n",
       "      <td>6900.0</td>\n",
       "      <td>392</td>\n",
       "      <td>46791.0</td>\n",
       "      <td>20616.0</td>\n",
       "      <td>5863.0</td>\n",
       "      <td>56800.0</td>\n",
       "      <td>123</td>\n",
       "      <td>3</td>\n",
       "    </tr>\n",
       "    <tr>\n",
       "      <td>38</td>\n",
       "      <td>871553</td>\n",
       "      <td>c class c200 cgi estate avantgarde</td>\n",
       "      <td>mercedes benz</td>\n",
       "      <td>Stationwagon</td>\n",
       "      <td>1</td>\n",
       "      <td>Dealer</td>\n",
       "      <td>2020-02-18</td>\n",
       "      <td>2015-06-23</td>\n",
       "      <td>2014</td>\n",
       "      <td>113000.0</td>\n",
       "      <td>14960.0</td>\n",
       "      <td>1202</td>\n",
       "      <td>68668.0</td>\n",
       "      <td>38344.0</td>\n",
       "      <td>35682.0</td>\n",
       "      <td>97800.0</td>\n",
       "      <td>123</td>\n",
       "      <td>6</td>\n",
       "    </tr>\n",
       "    <tr>\n",
       "      <td>39</td>\n",
       "      <td>887152</td>\n",
       "      <td>shuttle 1.5a g</td>\n",
       "      <td>honda</td>\n",
       "      <td>Stationwagon</td>\n",
       "      <td>1</td>\n",
       "      <td>Dealer</td>\n",
       "      <td>2020-02-18</td>\n",
       "      <td>2017-06-05</td>\n",
       "      <td>2016</td>\n",
       "      <td>82000.0</td>\n",
       "      <td>8060.0</td>\n",
       "      <td>682</td>\n",
       "      <td>52000.0</td>\n",
       "      <td>19387.0</td>\n",
       "      <td>9387.0</td>\n",
       "      <td>63500.0</td>\n",
       "      <td>123</td>\n",
       "      <td>4</td>\n",
       "    </tr>\n",
       "  </tbody>\n",
       "</table>\n",
       "</div>"
      ],
      "text/plain": [
       "    car_id                                model           make  vehicle_type  \\\n",
       "29  875725                   healey 3000 mk ii          austin        Others   \n",
       "36  868033                  shuttle hybrid 1.5a          honda  Stationwagon   \n",
       "37  881918             astra sports tourer 1.0a           opel  Stationwagon   \n",
       "38  871553   c class c200 cgi estate avantgarde  mercedes benz  Stationwagon   \n",
       "39  887152                       shuttle 1.5a g          honda  Stationwagon   \n",
       "\n",
       "    owner_count owner_type     posted   reg_date  man_f       mil      dep  \\\n",
       "29            1     Dealer 2019-12-21 2019-08-05   1964     700.0  30640.0   \n",
       "36            1     Dealer 2020-02-18 2018-10-04   2018   19000.0   8590.0   \n",
       "37            1     Dealer 2020-02-18 2017-12-07   2017   64000.0   6900.0   \n",
       "38            1     Dealer 2020-02-18 2015-06-23   2014  113000.0  14960.0   \n",
       "39            1     Dealer 2020-02-18 2017-06-05   2016   82000.0   8060.0   \n",
       "\n",
       "   road_tax      coe      omv      arf     price  ad_duration  age  \n",
       "29     280    3994.0  40374.0  48524.0  289999.0          182   56  \n",
       "36      nan  31001.0  20941.0  11318.0   79800.0          123    2  \n",
       "37     392   46791.0  20616.0   5863.0   56800.0          123    3  \n",
       "38    1202   68668.0  38344.0  35682.0   97800.0          123    6  \n",
       "39     682   52000.0  19387.0   9387.0   63500.0          123    4  "
      ]
     },
     "execution_count": 426,
     "metadata": {},
     "output_type": "execute_result"
    }
   ],
   "source": [
    "df.head()"
   ]
  },
  {
   "cell_type": "code",
   "execution_count": 427,
   "metadata": {
    "ExecuteTime": {
     "end_time": "2020-06-20T22:37:24.172733Z",
     "start_time": "2020-06-20T22:37:23.391721Z"
    }
   },
   "outputs": [
    {
     "data": {
      "text/plain": [
       "Text(0.5, 1.0, 'Frequency Distribution Plot of Age of the Cars')"
      ]
     },
     "execution_count": 427,
     "metadata": {},
     "output_type": "execute_result"
    },
    {
     "data": {
      "image/png": "[encoded data removed]",
      "text/plain": [
       "<Figure size 720x432 with 1 Axes>"
      ]
     },
     "metadata": {},
     "output_type": "display_data"
    }
   ],
   "source": [
    "a = df.age\n",
    "plt.figure(figsize=(10,6))\n",
    "sns.distplot(a).set_title('Frequency Distribution Plot of Age of the Cars')"
   ]
  },
  {
   "cell_type": "markdown",
   "metadata": {},
   "source": [
    "## km"
   ]
  },
  {
   "cell_type": "code",
   "execution_count": 428,
   "metadata": {
    "ExecuteTime": {
     "end_time": "2020-06-20T22:38:12.565621Z",
     "start_time": "2020-06-20T22:38:12.554640Z"
    }
   },
   "outputs": [
    {
     "name": "stdout",
     "output_type": "stream",
     "text": [
      "66827.4333781965\n",
      "56076.0\n"
     ]
    }
   ],
   "source": [
    "print(df.mil.mean())\n",
    "print(df.mil.median())"
   ]
  },
  {
   "cell_type": "code",
   "execution_count": 430,
   "metadata": {
    "ExecuteTime": {
     "end_time": "2020-06-20T22:38:21.821357Z",
     "start_time": "2020-06-20T22:38:21.043364Z"
    }
   },
   "outputs": [
    {
     "data": {
      "text/plain": [
       "Text(0.5, 1.0, 'Frequency Distribution Plot of Km')"
      ]
     },
     "execution_count": 430,
     "metadata": {},
     "output_type": "execute_result"
    },
    {
     "data": {
      "image/png": "[encoded data removed]",
      "text/plain": [
       "<Figure size 720x432 with 1 Axes>"
      ]
     },
     "metadata": {},
     "output_type": "display_data"
    }
   ],
   "source": [
    "k = df.mil\n",
    "plt.figure(figsize=(10,6))\n",
    "sns.distplot(k).set_title('Frequency Distribution Plot of Km')"
   ]
  },
  {
   "cell_type": "code",
   "execution_count": 432,
   "metadata": {
    "ExecuteTime": {
     "end_time": "2020-06-20T22:39:32.186969Z",
     "start_time": "2020-06-20T22:39:00.640529Z"
    }
   },
   "outputs": [
    {
     "name": "stdout",
     "output_type": "stream",
     "text": [
      "Requirement already satisfied: wordcloud in c:\\users\\d33ps3curity\\appdata\\local\\programs\\python\\python37-32\\lib\\site-packages (1.6.0)\n",
      "Requirement already satisfied: matplotlib in c:\\users\\d33ps3curity\\appdata\\local\\programs\\python\\python37-32\\lib\\site-packages (from wordcloud) (3.1.1)\n",
      "Requirement already satisfied: numpy>=1.6.1 in c:\\users\\d33ps3curity\\appdata\\local\\programs\\python\\python37-32\\lib\\site-packages (from wordcloud) (1.18.4)\n",
      "Requirement already satisfied: pillow in c:\\users\\d33ps3curity\\appdata\\local\\programs\\python\\python37-32\\lib\\site-packages (from wordcloud) (6.2.1)\n",
      "Requirement already satisfied: pyparsing!=2.0.4,!=2.1.2,!=2.1.6,>=2.0.1 in c:\\users\\d33ps3curity\\appdata\\local\\programs\\python\\python37-32\\lib\\site-packages (from matplotlib->wordcloud) (2.4.2)\n",
      "Requirement already satisfied: python-dateutil>=2.1 in c:\\users\\d33ps3curity\\appdata\\local\\programs\\python\\python37-32\\lib\\site-packages (from matplotlib->wordcloud) (2.8.0)\n",
      "Requirement already satisfied: kiwisolver>=1.0.1 in c:\\users\\d33ps3curity\\appdata\\local\\programs\\python\\python37-32\\lib\\site-packages (from matplotlib->wordcloud) (1.1.0)\n",
      "Requirement already satisfied: cycler>=0.10 in c:\\users\\d33ps3curity\\appdata\\local\\programs\\python\\python37-32\\lib\\site-packages (from matplotlib->wordcloud) (0.10.0)\n",
      "Requirement already satisfied: six>=1.5 in c:\\users\\d33ps3curity\\appdata\\local\\programs\\python\\python37-32\\lib\\site-packages (from python-dateutil>=2.1->matplotlib->wordcloud) (1.12.0)\n",
      "Requirement already satisfied: setuptools in c:\\users\\d33ps3curity\\appdata\\local\\programs\\python\\python37-32\\lib\\site-packages (from kiwisolver>=1.0.1->matplotlib->wordcloud) (40.8.0)\n",
      "Note: you may need to restart the kernel to use updated packages.\n"
     ]
    },
    {
     "name": "stderr",
     "output_type": "stream",
     "text": [
      "WARNING: You are using pip version 20.1; however, version 20.1.1 is available.\n",
      "You should consider upgrading via the 'C:\\Users\\d33ps3curity\\AppData\\Local\\Programs\\Python\\Python37-32\\python.exe -m pip install --upgrade pip' command.\n"
     ]
    }
   ],
   "source": [
    "pip install wordcloud"
   ]
  },
  {
   "cell_type": "code",
   "execution_count": 433,
   "metadata": {
    "ExecuteTime": {
     "end_time": "2020-06-20T22:39:38.092422Z",
     "start_time": "2020-06-20T22:39:37.452426Z"
    }
   },
   "outputs": [],
   "source": [
    "from wordcloud import WordCloud, STOPWORDS "
   ]
  },
  {
   "cell_type": "code",
   "execution_count": 455,
   "metadata": {
    "ExecuteTime": {
     "end_time": "2020-06-20T22:45:31.413291Z",
     "start_time": "2020-06-20T22:45:31.402298Z"
    }
   },
   "outputs": [],
   "source": [
    "df.make = df.make.astype('str')"
   ]
  },
  {
   "cell_type": "code",
   "execution_count": 456,
   "metadata": {
    "ExecuteTime": {
     "end_time": "2020-06-20T22:45:32.722623Z",
     "start_time": "2020-06-20T22:45:32.713623Z"
    },
    "scrolled": true
   },
   "outputs": [
    {
     "data": {
      "text/plain": [
       "8916"
      ]
     },
     "execution_count": 456,
     "metadata": {},
     "output_type": "execute_result"
    }
   ],
   "source": [
    "len(df.make)"
   ]
  },
  {
   "cell_type": "code",
   "execution_count": 457,
   "metadata": {
    "ExecuteTime": {
     "end_time": "2020-06-20T22:45:34.198715Z",
     "start_time": "2020-06-20T22:45:34.190715Z"
    }
   },
   "outputs": [],
   "source": [
    "text_list = list(df.make)"
   ]
  },
  {
   "cell_type": "code",
   "execution_count": 458,
   "metadata": {
    "ExecuteTime": {
     "end_time": "2020-06-20T22:45:34.744772Z",
     "start_time": "2020-06-20T22:45:34.739772Z"
    }
   },
   "outputs": [],
   "source": [
    "text_list_new = []"
   ]
  },
  {
   "cell_type": "code",
   "execution_count": 459,
   "metadata": {
    "ExecuteTime": {
     "end_time": "2020-06-20T22:45:35.318770Z",
     "start_time": "2020-06-20T22:45:35.308770Z"
    }
   },
   "outputs": [],
   "source": [
    "for t in text_list:\n",
    "    if not t.isalnum():\n",
    "        text_list_new.append(t)\n",
    "        "
   ]
  },
  {
   "cell_type": "code",
   "execution_count": 460,
   "metadata": {
    "ExecuteTime": {
     "end_time": "2020-06-20T22:45:37.060030Z",
     "start_time": "2020-06-20T22:45:37.053029Z"
    }
   },
   "outputs": [],
   "source": [
    "try:\n",
    "    text = 'aa-'.join(text_list)\n",
    "except TypeError:\n",
    "    pass"
   ]
  },
  {
   "cell_type": "code",
   "execution_count": 461,
   "metadata": {
    "ExecuteTime": {
     "end_time": "2020-06-20T22:45:38.750680Z",
     "start_time": "2020-06-20T22:45:37.675281Z"
    }
   },
   "outputs": [],
   "source": [
    "wordcloud = WordCloud(background_color='white').generate(text)"
   ]
  },
  {
   "cell_type": "code",
   "execution_count": 462,
   "metadata": {
    "ExecuteTime": {
     "end_time": "2020-06-20T22:45:40.258059Z",
     "start_time": "2020-06-20T22:45:39.530956Z"
    }
   },
   "outputs": [
    {
     "data": {
      "image/png": "[encoded data removed]",
      "text/plain": [
       "<Figure size 720x432 with 1 Axes>"
      ]
     },
     "metadata": {},
     "output_type": "display_data"
    }
   ],
   "source": [
    "plt.figure(figsize=(10,6))\n",
    "plt.imshow(wordcloud, interpolation='bilinear')\n",
    "plt.axis(\"off\")\n",
    "plt.show()"
   ]
  },
  {
   "cell_type": "code",
   "execution_count": 463,
   "metadata": {
    "ExecuteTime": {
     "end_time": "2020-06-20T22:45:52.450640Z",
     "start_time": "2020-06-20T22:45:52.445635Z"
    }
   },
   "outputs": [],
   "source": [
    "stopwords = ['VW', 'VOLKSWAGEN', 'POLO', 'MODEL', 'KM']"
   ]
  },
  {
   "cell_type": "code",
   "execution_count": 464,
   "metadata": {
    "ExecuteTime": {
     "end_time": "2020-06-20T22:45:53.494687Z",
     "start_time": "2020-06-20T22:45:52.789636Z"
    }
   },
   "outputs": [],
   "source": [
    "wordcloud = WordCloud(stopwords=stopwords).generate(text)"
   ]
  },
  {
   "cell_type": "code",
   "execution_count": 465,
   "metadata": {
    "ExecuteTime": {
     "end_time": "2020-06-20T22:45:54.202655Z",
     "start_time": "2020-06-20T22:45:53.649633Z"
    }
   },
   "outputs": [
    {
     "data": {
      "image/png": "[encoded data removed]",
      "text/plain": [
       "<Figure size 720x432 with 1 Axes>"
      ]
     },
     "metadata": {},
     "output_type": "display_data"
    }
   ],
   "source": [
    "plt.figure(figsize=(10,6))\n",
    "plt.imshow(wordcloud, interpolation='bilinear')\n",
    "plt.axis(\"off\")\n",
    "plt.show()"
   ]
  },
  {
   "cell_type": "markdown",
   "metadata": {},
   "source": [
    "## model"
   ]
  },
  {
   "cell_type": "code",
   "execution_count": 466,
   "metadata": {
    "ExecuteTime": {
     "end_time": "2020-06-20T22:45:59.390496Z",
     "start_time": "2020-06-20T22:45:59.369508Z"
    }
   },
   "outputs": [
    {
     "data": {
      "text/plain": [
       " vezel 1.5a x                              113\n",
       " c class c180 avantgarde                   105\n",
       " corolla altis 1.6a elegance                71\n",
       " 3 1.5a sunroof                             60\n",
       " dyna 150 3.0m                              55\n",
       "                                          ... \n",
       " cls class cls500                            1\n",
       " estima 2.4a aeras moonroof                  1\n",
       " gle class gle400 coupe amg line 4matic      1\n",
       " 2 series 218i coupe sport                   1\n",
       " attrage 1.2a sports                         1\n",
       "Name: model, Length: 2135, dtype: int64"
      ]
     },
     "execution_count": 466,
     "metadata": {},
     "output_type": "execute_result"
    }
   ],
   "source": [
    "df.model.value_counts()"
   ]
  },
  {
   "cell_type": "markdown",
   "metadata": {},
   "source": [
    "Model column includes three different kinds of information: engine size, fuel type and variant. After checking the values, I found out that only engine size information is complete for all cells. Fuel type and variant are missing for most of the cells so I created a separate column for engine size."
   ]
  },
  {
   "cell_type": "code",
   "execution_count": 473,
   "metadata": {
    "ExecuteTime": {
     "end_time": "2020-06-20T22:47:17.284350Z",
     "start_time": "2020-06-20T22:47:17.267350Z"
    }
   },
   "outputs": [],
   "source": [
    "#remove spaces\n",
    "df.model = df.model.replace(' ','',regex=True)"
   ]
  },
  {
   "cell_type": "code",
   "execution_count": 474,
   "metadata": {
    "ExecuteTime": {
     "end_time": "2020-06-20T22:47:17.876348Z",
     "start_time": "2020-06-20T22:47:17.864356Z"
    }
   },
   "outputs": [],
   "source": [
    "df.model = df.model.astype('str')"
   ]
  },
  {
   "cell_type": "code",
   "execution_count": 475,
   "metadata": {
    "ExecuteTime": {
     "end_time": "2020-06-20T22:47:18.357352Z",
     "start_time": "2020-06-20T22:47:18.345349Z"
    }
   },
   "outputs": [],
   "source": [
    "engine = [x[:3] for x in df.model]"
   ]
  },
  {
   "cell_type": "code",
   "execution_count": 476,
   "metadata": {
    "ExecuteTime": {
     "end_time": "2020-06-20T22:47:19.142892Z",
     "start_time": "2020-06-20T22:47:19.134913Z"
    }
   },
   "outputs": [
    {
     "data": {
      "text/plain": [
       "['hea', 'shu', 'ast', 'ccl', 'shu']"
      ]
     },
     "execution_count": 476,
     "metadata": {},
     "output_type": "execute_result"
    }
   ],
   "source": [
    "engine[:5]"
   ]
  },
  {
   "cell_type": "code",
   "execution_count": 477,
   "metadata": {
    "ExecuteTime": {
     "end_time": "2020-06-20T22:47:21.238147Z",
     "start_time": "2020-06-20T22:47:21.230147Z"
    }
   },
   "outputs": [],
   "source": [
    "df['engine'] = engine"
   ]
  },
  {
   "cell_type": "code",
   "execution_count": 478,
   "metadata": {
    "ExecuteTime": {
     "end_time": "2020-06-20T22:47:22.462246Z",
     "start_time": "2020-06-20T22:47:22.419253Z"
    }
   },
   "outputs": [
    {
     "data": {
      "text/html": [
       "<div>\n",
       "<style scoped>\n",
       "    .dataframe tbody tr th:only-of-type {\n",
       "        vertical-align: middle;\n",
       "    }\n",
       "\n",
       "    .dataframe tbody tr th {\n",
       "        vertical-align: top;\n",
       "    }\n",
       "\n",
       "    .dataframe thead th {\n",
       "        text-align: right;\n",
       "    }\n",
       "</style>\n",
       "<table border=\"1\" class=\"dataframe\">\n",
       "  <thead>\n",
       "    <tr style=\"text-align: right;\">\n",
       "      <th></th>\n",
       "      <th>car_id</th>\n",
       "      <th>model</th>\n",
       "      <th>make</th>\n",
       "      <th>vehicle_type</th>\n",
       "      <th>owner_count</th>\n",
       "      <th>owner_type</th>\n",
       "      <th>posted</th>\n",
       "      <th>reg_date</th>\n",
       "      <th>man_f</th>\n",
       "      <th>mil</th>\n",
       "      <th>dep</th>\n",
       "      <th>road_tax</th>\n",
       "      <th>coe</th>\n",
       "      <th>omv</th>\n",
       "      <th>arf</th>\n",
       "      <th>price</th>\n",
       "      <th>ad_duration</th>\n",
       "      <th>age</th>\n",
       "      <th>engine</th>\n",
       "    </tr>\n",
       "  </thead>\n",
       "  <tbody>\n",
       "    <tr>\n",
       "      <td>29</td>\n",
       "      <td>875725</td>\n",
       "      <td>healey3000mkii</td>\n",
       "      <td>austin</td>\n",
       "      <td>Others</td>\n",
       "      <td>1</td>\n",
       "      <td>Dealer</td>\n",
       "      <td>2019-12-21</td>\n",
       "      <td>2019-08-05</td>\n",
       "      <td>1964</td>\n",
       "      <td>700.0</td>\n",
       "      <td>30640.0</td>\n",
       "      <td>280</td>\n",
       "      <td>3994.0</td>\n",
       "      <td>40374.0</td>\n",
       "      <td>48524.0</td>\n",
       "      <td>289999.0</td>\n",
       "      <td>182</td>\n",
       "      <td>56</td>\n",
       "      <td>hea</td>\n",
       "    </tr>\n",
       "    <tr>\n",
       "      <td>36</td>\n",
       "      <td>868033</td>\n",
       "      <td>shuttlehybrid1.5a</td>\n",
       "      <td>honda</td>\n",
       "      <td>Stationwagon</td>\n",
       "      <td>1</td>\n",
       "      <td>Dealer</td>\n",
       "      <td>2020-02-18</td>\n",
       "      <td>2018-10-04</td>\n",
       "      <td>2018</td>\n",
       "      <td>19000.0</td>\n",
       "      <td>8590.0</td>\n",
       "      <td>nan</td>\n",
       "      <td>31001.0</td>\n",
       "      <td>20941.0</td>\n",
       "      <td>11318.0</td>\n",
       "      <td>79800.0</td>\n",
       "      <td>123</td>\n",
       "      <td>2</td>\n",
       "      <td>shu</td>\n",
       "    </tr>\n",
       "    <tr>\n",
       "      <td>37</td>\n",
       "      <td>881918</td>\n",
       "      <td>astrasportstourer1.0a</td>\n",
       "      <td>opel</td>\n",
       "      <td>Stationwagon</td>\n",
       "      <td>1</td>\n",
       "      <td>Dealer</td>\n",
       "      <td>2020-02-18</td>\n",
       "      <td>2017-12-07</td>\n",
       "      <td>2017</td>\n",
       "      <td>64000.0</td>\n",
       "      <td>6900.0</td>\n",
       "      <td>392</td>\n",
       "      <td>46791.0</td>\n",
       "      <td>20616.0</td>\n",
       "      <td>5863.0</td>\n",
       "      <td>56800.0</td>\n",
       "      <td>123</td>\n",
       "      <td>3</td>\n",
       "      <td>ast</td>\n",
       "    </tr>\n",
       "    <tr>\n",
       "      <td>38</td>\n",
       "      <td>871553</td>\n",
       "      <td>cclassc200cgiestateavantgarde</td>\n",
       "      <td>mercedes benz</td>\n",
       "      <td>Stationwagon</td>\n",
       "      <td>1</td>\n",
       "      <td>Dealer</td>\n",
       "      <td>2020-02-18</td>\n",
       "      <td>2015-06-23</td>\n",
       "      <td>2014</td>\n",
       "      <td>113000.0</td>\n",
       "      <td>14960.0</td>\n",
       "      <td>1202</td>\n",
       "      <td>68668.0</td>\n",
       "      <td>38344.0</td>\n",
       "      <td>35682.0</td>\n",
       "      <td>97800.0</td>\n",
       "      <td>123</td>\n",
       "      <td>6</td>\n",
       "      <td>ccl</td>\n",
       "    </tr>\n",
       "    <tr>\n",
       "      <td>39</td>\n",
       "      <td>887152</td>\n",
       "      <td>shuttle1.5ag</td>\n",
       "      <td>honda</td>\n",
       "      <td>Stationwagon</td>\n",
       "      <td>1</td>\n",
       "      <td>Dealer</td>\n",
       "      <td>2020-02-18</td>\n",
       "      <td>2017-06-05</td>\n",
       "      <td>2016</td>\n",
       "      <td>82000.0</td>\n",
       "      <td>8060.0</td>\n",
       "      <td>682</td>\n",
       "      <td>52000.0</td>\n",
       "      <td>19387.0</td>\n",
       "      <td>9387.0</td>\n",
       "      <td>63500.0</td>\n",
       "      <td>123</td>\n",
       "      <td>4</td>\n",
       "      <td>shu</td>\n",
       "    </tr>\n",
       "  </tbody>\n",
       "</table>\n",
       "</div>"
      ],
      "text/plain": [
       "    car_id                          model           make  vehicle_type  \\\n",
       "29  875725                 healey3000mkii         austin        Others   \n",
       "36  868033              shuttlehybrid1.5a          honda  Stationwagon   \n",
       "37  881918          astrasportstourer1.0a           opel  Stationwagon   \n",
       "38  871553  cclassc200cgiestateavantgarde  mercedes benz  Stationwagon   \n",
       "39  887152                   shuttle1.5ag          honda  Stationwagon   \n",
       "\n",
       "    owner_count owner_type     posted   reg_date  man_f       mil      dep  \\\n",
       "29            1     Dealer 2019-12-21 2019-08-05   1964     700.0  30640.0   \n",
       "36            1     Dealer 2020-02-18 2018-10-04   2018   19000.0   8590.0   \n",
       "37            1     Dealer 2020-02-18 2017-12-07   2017   64000.0   6900.0   \n",
       "38            1     Dealer 2020-02-18 2015-06-23   2014  113000.0  14960.0   \n",
       "39            1     Dealer 2020-02-18 2017-06-05   2016   82000.0   8060.0   \n",
       "\n",
       "   road_tax      coe      omv      arf     price  ad_duration  age engine  \n",
       "29     280    3994.0  40374.0  48524.0  289999.0          182   56    hea  \n",
       "36      nan  31001.0  20941.0  11318.0   79800.0          123    2    shu  \n",
       "37     392   46791.0  20616.0   5863.0   56800.0          123    3    ast  \n",
       "38    1202   68668.0  38344.0  35682.0   97800.0          123    6    ccl  \n",
       "39     682   52000.0  19387.0   9387.0   63500.0          123    4    shu  "
      ]
     },
     "execution_count": 478,
     "metadata": {},
     "output_type": "execute_result"
    }
   ],
   "source": [
    "df.head()"
   ]
  },
  {
   "cell_type": "code",
   "execution_count": 479,
   "metadata": {
    "ExecuteTime": {
     "end_time": "2020-06-20T22:47:26.843221Z",
     "start_time": "2020-06-20T22:47:26.827201Z"
    }
   },
   "outputs": [
    {
     "data": {
      "text/plain": [
       "ecl    381\n",
       "ccl    337\n",
       "cor    254\n",
       "vez    206\n",
       "cla    187\n",
       "      ... \n",
       "qx3      1\n",
       "com      1\n",
       "952      1\n",
       "viv      1\n",
       "nnr      1\n",
       "Name: engine, Length: 473, dtype: int64"
      ]
     },
     "execution_count": 479,
     "metadata": {},
     "output_type": "execute_result"
    }
   ],
   "source": [
    "df.engine.value_counts()"
   ]
  },
  {
   "cell_type": "code",
   "execution_count": 644,
   "metadata": {},
   "outputs": [
    {
     "data": {
      "text/html": [
       "<div>\n",
       "<style scoped>\n",
       "    .dataframe tbody tr th:only-of-type {\n",
       "        vertical-align: middle;\n",
       "    }\n",
       "\n",
       "    .dataframe tbody tr th {\n",
       "        vertical-align: top;\n",
       "    }\n",
       "\n",
       "    .dataframe thead th {\n",
       "        text-align: right;\n",
       "    }\n",
       "</style>\n",
       "<table border=\"1\" class=\"dataframe\">\n",
       "  <thead>\n",
       "    <tr style=\"text-align: right;\">\n",
       "      <th></th>\n",
       "      <th>age</th>\n",
       "      <th>km</th>\n",
       "    </tr>\n",
       "    <tr>\n",
       "      <th>engine</th>\n",
       "      <th></th>\n",
       "      <th></th>\n",
       "    </tr>\n",
       "  </thead>\n",
       "  <tbody>\n",
       "    <tr>\n",
       "      <th>1.3</th>\n",
       "      <td>28.250000</td>\n",
       "      <td>279464.000000</td>\n",
       "    </tr>\n",
       "    <tr>\n",
       "      <th>1.9</th>\n",
       "      <td>20.400000</td>\n",
       "      <td>209262.450000</td>\n",
       "    </tr>\n",
       "    <tr>\n",
       "      <th>1.6</th>\n",
       "      <td>16.210334</td>\n",
       "      <td>186531.867954</td>\n",
       "    </tr>\n",
       "    <tr>\n",
       "      <th>1.4</th>\n",
       "      <td>9.918979</td>\n",
       "      <td>136056.360340</td>\n",
       "    </tr>\n",
       "    <tr>\n",
       "      <th>1.2</th>\n",
       "      <td>6.110373</td>\n",
       "      <td>109629.562656</td>\n",
       "    </tr>\n",
       "    <tr>\n",
       "      <th>1.0</th>\n",
       "      <td>2.696822</td>\n",
       "      <td>53963.916870</td>\n",
       "    </tr>\n",
       "  </tbody>\n",
       "</table>\n",
       "</div>"
      ],
      "text/plain": [
       "              age             km\n",
       "engine                          \n",
       "1.3     28.250000  279464.000000\n",
       "1.9     20.400000  209262.450000\n",
       "1.6     16.210334  186531.867954\n",
       "1.4      9.918979  136056.360340\n",
       "1.2      6.110373  109629.562656\n",
       "1.0      2.696822   53963.916870"
      ]
     },
     "execution_count": 644,
     "metadata": {},
     "output_type": "execute_result"
    }
   ],
   "source": [
    "df[['engine','age','km']].groupby(['engine']).mean().sort_values(by='age', ascending=False)"
   ]
  },
  {
   "cell_type": "markdown",
   "metadata": {},
   "source": [
    "# Regression Model"
   ]
  },
  {
   "cell_type": "markdown",
   "metadata": {},
   "source": [
    "### Feature selection"
   ]
  },
  {
   "cell_type": "code",
   "execution_count": 481,
   "metadata": {
    "ExecuteTime": {
     "end_time": "2020-06-20T22:48:13.305704Z",
     "start_time": "2020-06-20T22:48:13.262706Z"
    },
    "scrolled": true
   },
   "outputs": [
    {
     "data": {
      "text/html": [
       "<div>\n",
       "<style scoped>\n",
       "    .dataframe tbody tr th:only-of-type {\n",
       "        vertical-align: middle;\n",
       "    }\n",
       "\n",
       "    .dataframe tbody tr th {\n",
       "        vertical-align: top;\n",
       "    }\n",
       "\n",
       "    .dataframe thead th {\n",
       "        text-align: right;\n",
       "    }\n",
       "</style>\n",
       "<table border=\"1\" class=\"dataframe\">\n",
       "  <thead>\n",
       "    <tr style=\"text-align: right;\">\n",
       "      <th></th>\n",
       "      <th>car_id</th>\n",
       "      <th>model</th>\n",
       "      <th>make</th>\n",
       "      <th>vehicle_type</th>\n",
       "      <th>owner_count</th>\n",
       "      <th>owner_type</th>\n",
       "      <th>posted</th>\n",
       "      <th>reg_date</th>\n",
       "      <th>man_f</th>\n",
       "      <th>mil</th>\n",
       "      <th>dep</th>\n",
       "      <th>road_tax</th>\n",
       "      <th>coe</th>\n",
       "      <th>omv</th>\n",
       "      <th>arf</th>\n",
       "      <th>price</th>\n",
       "      <th>ad_duration</th>\n",
       "      <th>age</th>\n",
       "      <th>engine</th>\n",
       "    </tr>\n",
       "  </thead>\n",
       "  <tbody>\n",
       "    <tr>\n",
       "      <td>29</td>\n",
       "      <td>875725</td>\n",
       "      <td>healey3000mkii</td>\n",
       "      <td>austin</td>\n",
       "      <td>Others</td>\n",
       "      <td>1</td>\n",
       "      <td>Dealer</td>\n",
       "      <td>2019-12-21</td>\n",
       "      <td>2019-08-05</td>\n",
       "      <td>1964</td>\n",
       "      <td>700.0</td>\n",
       "      <td>30640.0</td>\n",
       "      <td>280</td>\n",
       "      <td>3994.0</td>\n",
       "      <td>40374.0</td>\n",
       "      <td>48524.0</td>\n",
       "      <td>289999.0</td>\n",
       "      <td>182</td>\n",
       "      <td>56</td>\n",
       "      <td>hea</td>\n",
       "    </tr>\n",
       "    <tr>\n",
       "      <td>36</td>\n",
       "      <td>868033</td>\n",
       "      <td>shuttlehybrid1.5a</td>\n",
       "      <td>honda</td>\n",
       "      <td>Stationwagon</td>\n",
       "      <td>1</td>\n",
       "      <td>Dealer</td>\n",
       "      <td>2020-02-18</td>\n",
       "      <td>2018-10-04</td>\n",
       "      <td>2018</td>\n",
       "      <td>19000.0</td>\n",
       "      <td>8590.0</td>\n",
       "      <td>nan</td>\n",
       "      <td>31001.0</td>\n",
       "      <td>20941.0</td>\n",
       "      <td>11318.0</td>\n",
       "      <td>79800.0</td>\n",
       "      <td>123</td>\n",
       "      <td>2</td>\n",
       "      <td>shu</td>\n",
       "    </tr>\n",
       "    <tr>\n",
       "      <td>37</td>\n",
       "      <td>881918</td>\n",
       "      <td>astrasportstourer1.0a</td>\n",
       "      <td>opel</td>\n",
       "      <td>Stationwagon</td>\n",
       "      <td>1</td>\n",
       "      <td>Dealer</td>\n",
       "      <td>2020-02-18</td>\n",
       "      <td>2017-12-07</td>\n",
       "      <td>2017</td>\n",
       "      <td>64000.0</td>\n",
       "      <td>6900.0</td>\n",
       "      <td>392</td>\n",
       "      <td>46791.0</td>\n",
       "      <td>20616.0</td>\n",
       "      <td>5863.0</td>\n",
       "      <td>56800.0</td>\n",
       "      <td>123</td>\n",
       "      <td>3</td>\n",
       "      <td>ast</td>\n",
       "    </tr>\n",
       "    <tr>\n",
       "      <td>38</td>\n",
       "      <td>871553</td>\n",
       "      <td>cclassc200cgiestateavantgarde</td>\n",
       "      <td>mercedes benz</td>\n",
       "      <td>Stationwagon</td>\n",
       "      <td>1</td>\n",
       "      <td>Dealer</td>\n",
       "      <td>2020-02-18</td>\n",
       "      <td>2015-06-23</td>\n",
       "      <td>2014</td>\n",
       "      <td>113000.0</td>\n",
       "      <td>14960.0</td>\n",
       "      <td>1202</td>\n",
       "      <td>68668.0</td>\n",
       "      <td>38344.0</td>\n",
       "      <td>35682.0</td>\n",
       "      <td>97800.0</td>\n",
       "      <td>123</td>\n",
       "      <td>6</td>\n",
       "      <td>ccl</td>\n",
       "    </tr>\n",
       "    <tr>\n",
       "      <td>39</td>\n",
       "      <td>887152</td>\n",
       "      <td>shuttle1.5ag</td>\n",
       "      <td>honda</td>\n",
       "      <td>Stationwagon</td>\n",
       "      <td>1</td>\n",
       "      <td>Dealer</td>\n",
       "      <td>2020-02-18</td>\n",
       "      <td>2017-06-05</td>\n",
       "      <td>2016</td>\n",
       "      <td>82000.0</td>\n",
       "      <td>8060.0</td>\n",
       "      <td>682</td>\n",
       "      <td>52000.0</td>\n",
       "      <td>19387.0</td>\n",
       "      <td>9387.0</td>\n",
       "      <td>63500.0</td>\n",
       "      <td>123</td>\n",
       "      <td>4</td>\n",
       "      <td>shu</td>\n",
       "    </tr>\n",
       "  </tbody>\n",
       "</table>\n",
       "</div>"
      ],
      "text/plain": [
       "    car_id                          model           make  vehicle_type  \\\n",
       "29  875725                 healey3000mkii         austin        Others   \n",
       "36  868033              shuttlehybrid1.5a          honda  Stationwagon   \n",
       "37  881918          astrasportstourer1.0a           opel  Stationwagon   \n",
       "38  871553  cclassc200cgiestateavantgarde  mercedes benz  Stationwagon   \n",
       "39  887152                   shuttle1.5ag          honda  Stationwagon   \n",
       "\n",
       "    owner_count owner_type     posted   reg_date  man_f       mil      dep  \\\n",
       "29            1     Dealer 2019-12-21 2019-08-05   1964     700.0  30640.0   \n",
       "36            1     Dealer 2020-02-18 2018-10-04   2018   19000.0   8590.0   \n",
       "37            1     Dealer 2020-02-18 2017-12-07   2017   64000.0   6900.0   \n",
       "38            1     Dealer 2020-02-18 2015-06-23   2014  113000.0  14960.0   \n",
       "39            1     Dealer 2020-02-18 2017-06-05   2016   82000.0   8060.0   \n",
       "\n",
       "   road_tax      coe      omv      arf     price  ad_duration  age engine  \n",
       "29     280    3994.0  40374.0  48524.0  289999.0          182   56    hea  \n",
       "36      nan  31001.0  20941.0  11318.0   79800.0          123    2    shu  \n",
       "37     392   46791.0  20616.0   5863.0   56800.0          123    3    ast  \n",
       "38    1202   68668.0  38344.0  35682.0   97800.0          123    6    ccl  \n",
       "39     682   52000.0  19387.0   9387.0   63500.0          123    4    shu  "
      ]
     },
     "execution_count": 481,
     "metadata": {},
     "output_type": "execute_result"
    }
   ],
   "source": [
    "df.head()"
   ]
  },
  {
   "cell_type": "code",
   "execution_count": 482,
   "metadata": {
    "ExecuteTime": {
     "end_time": "2020-06-20T22:48:23.952511Z",
     "start_time": "2020-06-20T22:48:21.490496Z"
    },
    "scrolled": false
   },
   "outputs": [
    {
     "data": {
      "text/plain": [
       "Text(0.5, 1.0, 'Km vs Price')"
      ]
     },
     "execution_count": 482,
     "metadata": {},
     "output_type": "execute_result"
    },
    {
     "data": {
      "image/png": "[encoded data removed]",
      "text/plain": [
       "<Figure size 720x432 with 1 Axes>"
      ]
     },
     "metadata": {},
     "output_type": "display_data"
    }
   ],
   "source": [
    "plt.figure(figsize=(10,6))\n",
    "sns.regplot(x='mil', y='price', data=df).set_title('Km vs Price')"
   ]
  },
  {
   "cell_type": "code",
   "execution_count": 483,
   "metadata": {
    "ExecuteTime": {
     "end_time": "2020-06-20T22:48:29.618135Z",
     "start_time": "2020-06-20T22:48:29.608149Z"
    }
   },
   "outputs": [
    {
     "data": {
      "text/plain": [
       "(8916, 19)"
      ]
     },
     "execution_count": 483,
     "metadata": {},
     "output_type": "execute_result"
    }
   ],
   "source": [
    "df.shape"
   ]
  },
  {
   "cell_type": "code",
   "execution_count": 485,
   "metadata": {
    "ExecuteTime": {
     "end_time": "2020-06-20T22:48:39.934256Z",
     "start_time": "2020-06-20T22:48:39.793260Z"
    }
   },
   "outputs": [],
   "source": [
    "df = df[df.mil < 400000]"
   ]
  },
  {
   "cell_type": "code",
   "execution_count": 486,
   "metadata": {
    "ExecuteTime": {
     "end_time": "2020-06-20T22:48:42.713531Z",
     "start_time": "2020-06-20T22:48:42.705538Z"
    }
   },
   "outputs": [
    {
     "data": {
      "text/plain": [
       "(8910, 19)"
      ]
     },
     "execution_count": 486,
     "metadata": {},
     "output_type": "execute_result"
    }
   ],
   "source": [
    "df.shape"
   ]
  },
  {
   "cell_type": "code",
   "execution_count": 488,
   "metadata": {
    "ExecuteTime": {
     "end_time": "2020-06-20T22:48:51.782072Z",
     "start_time": "2020-06-20T22:48:49.799069Z"
    }
   },
   "outputs": [
    {
     "data": {
      "text/plain": [
       "Text(0.5, 1.0, 'Km vs Price')"
      ]
     },
     "execution_count": 488,
     "metadata": {},
     "output_type": "execute_result"
    },
    {
     "data": {
      "image/png": "[encoded data removed]",
      "text/plain": [
       "<Figure size 720x432 with 1 Axes>"
      ]
     },
     "metadata": {},
     "output_type": "display_data"
    }
   ],
   "source": [
    "plt.figure(figsize=(10,6))\n",
    "sns.regplot(x='mil', y='price', data=df).set_title('Km vs Price')"
   ]
  },
  {
   "cell_type": "code",
   "execution_count": 489,
   "metadata": {
    "ExecuteTime": {
     "end_time": "2020-06-20T22:49:00.107222Z",
     "start_time": "2020-06-20T22:48:57.884219Z"
    }
   },
   "outputs": [
    {
     "data": {
      "text/plain": [
       "Text(0.5, 1.0, 'Age vs Price')"
      ]
     },
     "execution_count": 489,
     "metadata": {},
     "output_type": "execute_result"
    },
    {
     "data": {
      "image/png": "[encoded data removed]",
      "text/plain": [
       "<Figure size 720x432 with 1 Axes>"
      ]
     },
     "metadata": {},
     "output_type": "display_data"
    }
   ],
   "source": [
    "plt.figure(figsize=(10,6))\n",
    "sns.regplot(x='age', y='price', data=df).set_title('Age vs Price')"
   ]
  },
  {
   "cell_type": "code",
   "execution_count": 490,
   "metadata": {
    "ExecuteTime": {
     "end_time": "2020-06-20T22:49:05.762560Z",
     "start_time": "2020-06-20T22:49:05.749591Z"
    }
   },
   "outputs": [],
   "source": [
    "df = df[df.age < 30]"
   ]
  },
  {
   "cell_type": "code",
   "execution_count": 491,
   "metadata": {
    "ExecuteTime": {
     "end_time": "2020-06-20T22:49:08.925316Z",
     "start_time": "2020-06-20T22:49:07.117291Z"
    }
   },
   "outputs": [
    {
     "data": {
      "text/plain": [
       "Text(0.5, 1.0, 'Age vs Price')"
      ]
     },
     "execution_count": 491,
     "metadata": {},
     "output_type": "execute_result"
    },
    {
     "data": {
      "image/png": "[encoded data removed]",
      "text/plain": [
       "<Figure size 720x432 with 1 Axes>"
      ]
     },
     "metadata": {},
     "output_type": "display_data"
    }
   ],
   "source": [
    "plt.figure(figsize=(10,6))\n",
    "sns.regplot(x='age', y='price', data=df).set_title('Age vs Price')"
   ]
  },
  {
   "cell_type": "code",
   "execution_count": 492,
   "metadata": {
    "ExecuteTime": {
     "end_time": "2020-06-20T22:49:15.035253Z",
     "start_time": "2020-06-20T22:49:13.178266Z"
    }
   },
   "outputs": [
    {
     "data": {
      "text/plain": [
       "Text(0.5, 1.0, 'Ad Duration vs Price')"
      ]
     },
     "execution_count": 492,
     "metadata": {},
     "output_type": "execute_result"
    },
    {
     "data": {
      "image/png": "[encoded data removed]",
      "text/plain": [
       "<Figure size 720x432 with 1 Axes>"
      ]
     },
     "metadata": {},
     "output_type": "display_data"
    }
   ],
   "source": [
    "plt.figure(figsize=(10,6))\n",
    "sns.regplot(x='ad_duration', y='price', data=df).set_title('Ad Duration vs Price')"
   ]
  },
  {
   "cell_type": "markdown",
   "metadata": {},
   "source": [
    "### Correlation matrix"
   ]
  },
  {
   "cell_type": "code",
   "execution_count": 494,
   "metadata": {
    "ExecuteTime": {
     "end_time": "2020-06-20T22:49:31.080830Z",
     "start_time": "2020-06-20T22:49:30.923834Z"
    }
   },
   "outputs": [
    {
     "name": "stdout",
     "output_type": "stream",
     "text": [
      "             owner_count     man_f       mil       dep       coe       omv  \\\n",
      "owner_count     1.000000 -0.706101  0.522094  0.087465 -0.054780  0.201313   \n",
      "man_f          -0.706101  1.000000 -0.766848 -0.028899  0.058958 -0.094888   \n",
      "mil             0.522094 -0.766848  1.000000 -0.151934 -0.038218 -0.149115   \n",
      "dep             0.087465 -0.028899 -0.151934  1.000000  0.256812  0.706992   \n",
      "coe            -0.054780  0.058958 -0.038218  0.256812  1.000000  0.299144   \n",
      "omv             0.201313 -0.094888 -0.149115  0.706992  0.299144  1.000000   \n",
      "arf             0.142995 -0.049363 -0.180887  0.670695  0.269808  0.954499   \n",
      "price          -0.059793  0.219120 -0.385836  0.652483  0.171085  0.836860   \n",
      "ad_duration     0.023780 -0.005802 -0.023661  0.055881  0.019947  0.065248   \n",
      "age             0.706101 -1.000000  0.766848  0.028899 -0.058958  0.094888   \n",
      "\n",
      "                  arf     price  ad_duration       age  \n",
      "owner_count  0.142995 -0.059793     0.023780  0.706101  \n",
      "man_f       -0.049363  0.219120    -0.005802 -1.000000  \n",
      "mil         -0.180887 -0.385836    -0.023661  0.766848  \n",
      "dep          0.670695  0.652483     0.055881  0.028899  \n",
      "coe          0.269808  0.171085     0.019947 -0.058958  \n",
      "omv          0.954499  0.836860     0.065248  0.094888  \n",
      "arf          1.000000  0.912120     0.055890  0.049363  \n",
      "price        0.912120  1.000000     0.067338 -0.219120  \n",
      "ad_duration  0.055890  0.067338     1.000000  0.005802  \n",
      "age          0.049363 -0.219120     0.005802  1.000000  \n"
     ]
    }
   ],
   "source": [
    "print(df.corr())"
   ]
  },
  {
   "cell_type": "code",
   "execution_count": 495,
   "metadata": {
    "ExecuteTime": {
     "end_time": "2020-06-20T22:49:34.110900Z",
     "start_time": "2020-06-20T22:49:34.096880Z"
    }
   },
   "outputs": [],
   "source": [
    "corr = df.corr()"
   ]
  },
  {
   "cell_type": "code",
   "execution_count": 496,
   "metadata": {
    "ExecuteTime": {
     "end_time": "2020-06-20T22:49:35.555234Z",
     "start_time": "2020-06-20T22:49:34.991238Z"
    },
    "scrolled": true
   },
   "outputs": [
    {
     "data": {
      "text/plain": [
       "<matplotlib.axes._subplots.AxesSubplot at 0x196bebd0>"
      ]
     },
     "execution_count": 496,
     "metadata": {},
     "output_type": "execute_result"
    },
    {
     "data": {
      "image/png": "[encoded data removed]",
      "text/plain": [
       "<Figure size 720x432 with 2 Axes>"
      ]
     },
     "metadata": {},
     "output_type": "display_data"
    }
   ],
   "source": [
    "plt.figure(figsize=(10,6))\n",
    "sns.heatmap(corr, vmax=1, square=True)"
   ]
  },
  {
   "cell_type": "markdown",
   "metadata": {},
   "source": [
    "### Linear regression model"
   ]
  },
  {
   "cell_type": "code",
   "execution_count": 497,
   "metadata": {
    "ExecuteTime": {
     "end_time": "2020-06-20T22:49:43.675850Z",
     "start_time": "2020-06-20T22:49:40.266842Z"
    }
   },
   "outputs": [],
   "source": [
    "from sklearn.model_selection import train_test_split\n",
    "from sklearn.linear_model import LinearRegression\n",
    "from sklearn.metrics import mean_squared_error\n",
    "from sklearn.model_selection import cross_val_score\n",
    "from sklearn.metrics import r2_score"
   ]
  },
  {
   "cell_type": "code",
   "execution_count": 499,
   "metadata": {
    "ExecuteTime": {
     "end_time": "2020-06-20T22:50:01.169229Z",
     "start_time": "2020-06-20T22:50:01.159231Z"
    }
   },
   "outputs": [],
   "source": [
    "X = df[['age','mil','ad_duration']]\n",
    "y = df['price']"
   ]
  },
  {
   "cell_type": "code",
   "execution_count": 500,
   "metadata": {
    "ExecuteTime": {
     "end_time": "2020-06-20T22:50:02.024249Z",
     "start_time": "2020-06-20T22:50:01.953241Z"
    }
   },
   "outputs": [],
   "source": [
    "X_train, X_test, y_train, y_test = train_test_split(X, y, random_state=42)"
   ]
  },
  {
   "cell_type": "code",
   "execution_count": 501,
   "metadata": {
    "ExecuteTime": {
     "end_time": "2020-06-20T22:50:02.507238Z",
     "start_time": "2020-06-20T22:50:02.502251Z"
    }
   },
   "outputs": [],
   "source": [
    "linreg = LinearRegression()"
   ]
  },
  {
   "cell_type": "code",
   "execution_count": 502,
   "metadata": {
    "ExecuteTime": {
     "end_time": "2020-06-20T22:50:03.138233Z",
     "start_time": "2020-06-20T22:50:02.991228Z"
    }
   },
   "outputs": [
    {
     "data": {
      "text/plain": [
       "LinearRegression(copy_X=True, fit_intercept=True, n_jobs=None, normalize=False)"
      ]
     },
     "execution_count": 502,
     "metadata": {},
     "output_type": "execute_result"
    }
   ],
   "source": [
    "linreg.fit(X_train, y_train)"
   ]
  },
  {
   "cell_type": "code",
   "execution_count": 503,
   "metadata": {
    "ExecuteTime": {
     "end_time": "2020-06-20T22:50:03.609227Z",
     "start_time": "2020-06-20T22:50:03.551255Z"
    }
   },
   "outputs": [
    {
     "name": "stdout",
     "output_type": "stream",
     "text": [
      "0.16946688424274342\n"
     ]
    }
   ],
   "source": [
    "scores = cross_val_score(linreg, X_train, y_train, cv=5)\n",
    "print(np.mean(scores))"
   ]
  },
  {
   "cell_type": "code",
   "execution_count": 504,
   "metadata": {
    "ExecuteTime": {
     "end_time": "2020-06-20T22:50:05.005710Z",
     "start_time": "2020-06-20T22:50:04.954714Z"
    }
   },
   "outputs": [
    {
     "name": "stdout",
     "output_type": "stream",
     "text": [
      "0.1492358882445319\n"
     ]
    }
   ],
   "source": [
    "scores_test = cross_val_score(linreg, X_test, y_test, cv=5)\n",
    "print(np.mean(scores_test))"
   ]
  },
  {
   "cell_type": "code",
   "execution_count": 505,
   "metadata": {
    "ExecuteTime": {
     "end_time": "2020-06-20T22:50:05.773067Z",
     "start_time": "2020-06-20T22:50:05.759067Z"
    }
   },
   "outputs": [
    {
     "data": {
      "text/plain": [
       "0.17114615669017275"
      ]
     },
     "execution_count": 505,
     "metadata": {},
     "output_type": "execute_result"
    }
   ],
   "source": [
    "linreg.score(X_train, y_train)"
   ]
  },
  {
   "cell_type": "code",
   "execution_count": 506,
   "metadata": {
    "ExecuteTime": {
     "end_time": "2020-06-20T22:50:11.839700Z",
     "start_time": "2020-06-20T22:50:11.825707Z"
    }
   },
   "outputs": [
    {
     "data": {
      "text/plain": [
       "0.1480225024202474"
      ]
     },
     "execution_count": 506,
     "metadata": {},
     "output_type": "execute_result"
    }
   ],
   "source": [
    "linreg.score(X_test, y_test)"
   ]
  },
  {
   "cell_type": "code",
   "execution_count": 507,
   "metadata": {
    "ExecuteTime": {
     "end_time": "2020-06-20T22:50:13.769817Z",
     "start_time": "2020-06-20T22:50:13.739817Z"
    }
   },
   "outputs": [
    {
     "ename": "NameError",
     "evalue": "name 'y_pred' is not defined",
     "output_type": "error",
     "traceback": [
      "\u001b[1;31m---------------------------------------------------------------------------\u001b[0m",
      "\u001b[1;31mNameError\u001b[0m                                 Traceback (most recent call last)",
      "\u001b[1;32m<ipython-input-507-483fc5421882>\u001b[0m in \u001b[0;36m<module>\u001b[1;34m\u001b[0m\n\u001b[0;32m      1\u001b[0m \u001b[0mplt\u001b[0m\u001b[1;33m.\u001b[0m\u001b[0mfigure\u001b[0m\u001b[1;33m(\u001b[0m\u001b[0mfigsize\u001b[0m\u001b[1;33m=\u001b[0m\u001b[1;33m(\u001b[0m\u001b[1;36m10\u001b[0m\u001b[1;33m,\u001b[0m\u001b[1;36m6\u001b[0m\u001b[1;33m)\u001b[0m\u001b[1;33m)\u001b[0m\u001b[1;33m\u001b[0m\u001b[1;33m\u001b[0m\u001b[0m\n\u001b[1;32m----> 2\u001b[1;33m \u001b[0msns\u001b[0m\u001b[1;33m.\u001b[0m\u001b[0mresidplot\u001b[0m\u001b[1;33m(\u001b[0m\u001b[0mx\u001b[0m\u001b[1;33m=\u001b[0m\u001b[0my_pred\u001b[0m\u001b[1;33m,\u001b[0m \u001b[0my\u001b[0m\u001b[1;33m=\u001b[0m\u001b[0my_test\u001b[0m\u001b[1;33m)\u001b[0m\u001b[1;33m\u001b[0m\u001b[1;33m\u001b[0m\u001b[0m\n\u001b[0m",
      "\u001b[1;31mNameError\u001b[0m: name 'y_pred' is not defined"
     ]
    },
    {
     "data": {
      "text/plain": [
       "<Figure size 720x432 with 0 Axes>"
      ]
     },
     "metadata": {},
     "output_type": "display_data"
    }
   ],
   "source": [
    "plt.figure(figsize=(10,6))\n",
    "sns.residplot(x=y_pred, y=y_test)"
   ]
  },
  {
   "cell_type": "markdown",
   "metadata": {},
   "source": [
    "### random forest regressor"
   ]
  },
  {
   "cell_type": "code",
   "execution_count": 508,
   "metadata": {
    "ExecuteTime": {
     "end_time": "2020-06-20T22:51:07.404966Z",
     "start_time": "2020-06-20T22:51:06.624788Z"
    }
   },
   "outputs": [],
   "source": [
    "from sklearn.ensemble import RandomForestRegressor"
   ]
  },
  {
   "cell_type": "code",
   "execution_count": 509,
   "metadata": {
    "ExecuteTime": {
     "end_time": "2020-06-20T22:51:07.649927Z",
     "start_time": "2020-06-20T22:51:07.639930Z"
    }
   },
   "outputs": [],
   "source": [
    "regr = RandomForestRegressor(max_depth=10, random_state=0, n_estimators=10)"
   ]
  },
  {
   "cell_type": "code",
   "execution_count": 510,
   "metadata": {
    "ExecuteTime": {
     "end_time": "2020-06-20T22:51:08.336048Z",
     "start_time": "2020-06-20T22:51:08.152028Z"
    }
   },
   "outputs": [
    {
     "data": {
      "text/plain": [
       "RandomForestRegressor(bootstrap=True, criterion='mse', max_depth=10,\n",
       "                      max_features='auto', max_leaf_nodes=None,\n",
       "                      min_impurity_decrease=0.0, min_impurity_split=None,\n",
       "                      min_samples_leaf=1, min_samples_split=2,\n",
       "                      min_weight_fraction_leaf=0.0, n_estimators=10,\n",
       "                      n_jobs=None, oob_score=False, random_state=0, verbose=0,\n",
       "                      warm_start=False)"
      ]
     },
     "execution_count": 510,
     "metadata": {},
     "output_type": "execute_result"
    }
   ],
   "source": [
    "regr.fit(X_train, y_train)"
   ]
  },
  {
   "cell_type": "code",
   "execution_count": 511,
   "metadata": {
    "ExecuteTime": {
     "end_time": "2020-06-20T22:51:08.846134Z",
     "start_time": "2020-06-20T22:51:08.825125Z"
    }
   },
   "outputs": [
    {
     "name": "stdout",
     "output_type": "stream",
     "text": [
      "R-squared score (training): 0.694\n"
     ]
    }
   ],
   "source": [
    "print('R-squared score (training): {:.3f}'\n",
    "     .format(regr.score(X_train, y_train)))"
   ]
  },
  {
   "cell_type": "code",
   "execution_count": 512,
   "metadata": {
    "ExecuteTime": {
     "end_time": "2020-06-20T22:51:10.308812Z",
     "start_time": "2020-06-20T22:51:10.293816Z"
    }
   },
   "outputs": [
    {
     "name": "stdout",
     "output_type": "stream",
     "text": [
      "R-squared score (training): 0.417\n"
     ]
    }
   ],
   "source": [
    "print('R-squared score (training): {:.3f}'\n",
    "     .format(regr.score(X_test, y_test)))"
   ]
  },
  {
   "cell_type": "markdown",
   "metadata": {},
   "source": [
    "### withoud ad_duration"
   ]
  },
  {
   "cell_type": "code",
   "execution_count": 514,
   "metadata": {
    "ExecuteTime": {
     "end_time": "2020-06-20T22:52:20.539480Z",
     "start_time": "2020-06-20T22:52:20.531474Z"
    }
   },
   "outputs": [],
   "source": [
    "X1 = df[['age','mil','dep']]\n",
    "y1 = df['price']"
   ]
  },
  {
   "cell_type": "code",
   "execution_count": 515,
   "metadata": {
    "ExecuteTime": {
     "end_time": "2020-06-20T22:52:21.336583Z",
     "start_time": "2020-06-20T22:52:21.329581Z"
    }
   },
   "outputs": [],
   "source": [
    "regr1 = RandomForestRegressor(max_depth=10, random_state=0, n_estimators=10)"
   ]
  },
  {
   "cell_type": "code",
   "execution_count": 516,
   "metadata": {
    "ExecuteTime": {
     "end_time": "2020-06-20T22:52:22.169908Z",
     "start_time": "2020-06-20T22:52:22.155887Z"
    }
   },
   "outputs": [],
   "source": [
    "X_train1, X_test1, y_train1, y_test1 = train_test_split(X1, y1, random_state=42)"
   ]
  },
  {
   "cell_type": "code",
   "execution_count": 517,
   "metadata": {
    "ExecuteTime": {
     "end_time": "2020-06-20T22:52:22.904886Z",
     "start_time": "2020-06-20T22:52:22.739896Z"
    }
   },
   "outputs": [
    {
     "data": {
      "text/plain": [
       "RandomForestRegressor(bootstrap=True, criterion='mse', max_depth=10,\n",
       "                      max_features='auto', max_leaf_nodes=None,\n",
       "                      min_impurity_decrease=0.0, min_impurity_split=None,\n",
       "                      min_samples_leaf=1, min_samples_split=2,\n",
       "                      min_weight_fraction_leaf=0.0, n_estimators=10,\n",
       "                      n_jobs=None, oob_score=False, random_state=0, verbose=0,\n",
       "                      warm_start=False)"
      ]
     },
     "execution_count": 517,
     "metadata": {},
     "output_type": "execute_result"
    }
   ],
   "source": [
    "regr1.fit(X_train1, y_train1)"
   ]
  },
  {
   "cell_type": "code",
   "execution_count": 518,
   "metadata": {
    "ExecuteTime": {
     "end_time": "2020-06-20T22:52:23.674891Z",
     "start_time": "2020-06-20T22:52:23.652893Z"
    }
   },
   "outputs": [
    {
     "name": "stdout",
     "output_type": "stream",
     "text": [
      "R-squared score (training): 0.990\n"
     ]
    }
   ],
   "source": [
    "print('R-squared score (training): {:.3f}'\n",
    "     .format(regr1.score(X_train1, y_train1)))"
   ]
  },
  {
   "cell_type": "code",
   "execution_count": 519,
   "metadata": {
    "ExecuteTime": {
     "end_time": "2020-06-20T22:52:25.610198Z",
     "start_time": "2020-06-20T22:52:25.593212Z"
    }
   },
   "outputs": [
    {
     "name": "stdout",
     "output_type": "stream",
     "text": [
      "R-squared score (training): 0.959\n"
     ]
    }
   ],
   "source": [
    "print('R-squared score (training): {:.3f}'\n",
    "     .format(regr1.score(X_test1, y_test1)))"
   ]
  },
  {
   "cell_type": "code",
   "execution_count": null,
   "metadata": {},
   "outputs": [],
   "source": []
  }
 ],
 "metadata": {
  "hide_input": false,
  "kernelspec": {
   "display_name": "Python 3",
   "language": "python",
   "name": "python3"
  },
  "language_info": {
   "codemirror_mode": {
    "name": "ipython",
    "version": 3
   },
   "file_extension": ".py",
   "mimetype": "text/x-python",
   "name": "python",
   "nbconvert_exporter": "python",
   "pygments_lexer": "ipython3",
   "version": "3.7.4"
  },
  "toc": {
   "base_numbering": 1,
   "nav_menu": {},
   "number_sections": true,
   "sideBar": true,
   "skip_h1_title": false,
   "title_cell": "Table of Contents",
   "title_sidebar": "Contents",
   "toc_cell": false,
   "toc_position": {},
   "toc_section_display": true,
   "toc_window_display": false
  },
  "varInspector": {
   "cols": {
    "lenName": 16,
    "lenType": 16,
    "lenVar": 40
   },
   "kernels_config": {
    "python": {
     "delete_cmd_postfix": "",
     "delete_cmd_prefix": "del ",
     "library": "var_list.py",
     "varRefreshCmd": "print(var_dic_list())"
    },
    "r": {
     "delete_cmd_postfix": ") ",
     "delete_cmd_prefix": "rm(",
     "library": "var_list.r",
     "varRefreshCmd": "cat(var_dic_list()) "
    }
   },
   "types_to_exclude": [
    "module",
    "function",
    "builtin_function_or_method",
    "instance",
    "_Feature"
   ],
   "window_display": false
  }
 },
 "nbformat": 4,
 "nbformat_minor": 2
}
